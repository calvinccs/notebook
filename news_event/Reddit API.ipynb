{
 "cells": [
  {
   "cell_type": "markdown",
   "metadata": {},
   "source": [
    "Using the Reddit API\n",
    "\n",
    "https://www.reddit.com/r/worldnews/?hl="
   ]
  },
  {
   "cell_type": "code",
   "execution_count": null,
   "metadata": {
    "collapsed": true
   },
   "outputs": [],
   "source": [
    "from urllib.request import urlopen\n",
    "import json\n",
    "\n",
    "url = 'https://www.reddit.com/r/worldnews/.json?'\n",
    "response = urlopen(url)\n",
    "data = response.read().decode(\"utf-8\")"
   ]
  },
  {
   "cell_type": "code",
   "execution_count": 2,
   "metadata": {
    "collapsed": false,
    "scrolled": false
   },
   "outputs": [],
   "source": [
    "all = json.loads(data)"
   ]
  },
  {
   "cell_type": "markdown",
   "metadata": {},
   "source": [
    "There are many level in this json file"
   ]
  },
  {
   "cell_type": "code",
   "execution_count": 27,
   "metadata": {
    "collapsed": false,
    "scrolled": false
   },
   "outputs": [
    {
     "data": {
      "text/plain": [
       "[\"Trump's Second Travel Ban Blocked by U.S. Judge\",\n",
       " 'The Indian state of Kerala has declared that internet is a basic human right and that all citizens should have access to WiFi',\n",
       " \"Dutch PM Rutte's party leads exit polls - BBC News\",\n",
       " 'Australia to ban unvaccinated children from preschool',\n",
       " 'US Defence Secretary James Mattis says climate change is already destabilising the world',\n",
       " '$3 Million Missile used to shoot down a $200 drone.',\n",
       " 'Astronomers just found a star orbiting a black hole at 1% the speed of light',\n",
       " \"'We are all doing it': Employees at Canada's 5 big banks speak out about pressure to dupe customers\",\n",
       " 'A prominent Polish historian presented evidence Wednesday about Polish villagers’ widespread killing of Jews fleeing Nazis during World War II, touching a raw nerve',\n",
       " 'Renault has used \"fraudulent strategies\" for over 25 years to cheat on pollution tests for diesel and petrol engines with the knowledge of top management, according to a report by French fraud investigators',\n",
       " 'Turkey deports 40 Holstein cows back to Holland amid diplomatic stand-off',\n",
       " 'Trump Administration wants to cut UN funds by 50%',\n",
       " 'US aircraft carrier Carl Vinson, carrying huge fleet of fighter jets, arrives in South Korea for show of force against North',\n",
       " \"Turks 'detached from reality' - EU\",\n",
       " 'US charges Russian spies over Yahoo breach',\n",
       " 'Widow of The North Face founder pledges to hand over 10 million acres to the Government of Chile to expand their national parks.',\n",
       " 'Ikea drivers living in trucks for months - \"Some drivers - brought over from poorer countries by lorry firms based in Eastern Europe - say their salary is less than three pounds an hour.\"',\n",
       " 'Court documents raise cancer questions about Monsanto blockbuster weedkiller Roundup',\n",
       " 'Saudi Prince says Trump is a true friend to Muslims',\n",
       " 'Millions of single-use plastic soft drink bottles sold every year, report shows | Millions of tonnes of plastics are ending up in the ocean every year, harming marine wildlife, taking centuries to break down and spreading toxic chemicals.',\n",
       " \"Philippine lawmaker calls for Duterte's impeachment\",\n",
       " 'As Climate Alarm Bells Ring, Trump Poised to Decimate Regulations: Trump is poised to unleash a sweeping anti-climate executive order to repeal major regulations enacted by the Obama administration',\n",
       " \"America's U.N. ambassador Nikki Haley demands UN withdraw report branding Israel ‘apartheid’ state\",\n",
       " 'Trump Administration Threatens To Withdraw From UN Human Rights Council',\n",
       " \"Canadian nurses working at Michigan hospitals were stopped from entering the U.S. due to changes to their working visas under Trump's new immigration policies\"]"
      ]
     },
     "execution_count": 27,
     "metadata": {},
     "output_type": "execute_result"
    }
   ],
   "source": [
    "[all['data']['children'][i]['data']['title'] for i in range(25)]"
   ]
  },
  {
   "cell_type": "code",
   "execution_count": null,
   "metadata": {
    "collapsed": true
   },
   "outputs": [],
   "source": []
  }
 ],
 "metadata": {
  "kernelspec": {
   "display_name": "Python 3",
   "language": "python",
   "name": "python3"
  },
  "language_info": {
   "codemirror_mode": {
    "name": "ipython",
    "version": 3
   },
   "file_extension": ".py",
   "mimetype": "text/x-python",
   "name": "python",
   "nbconvert_exporter": "python",
   "pygments_lexer": "ipython3",
   "version": "3.5.2"
  }
 },
 "nbformat": 4,
 "nbformat_minor": 2
}
