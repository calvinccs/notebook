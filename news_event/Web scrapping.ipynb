{
 "cells": [
  {
   "cell_type": "code",
   "execution_count": 1,
   "metadata": {
    "collapsed": false
   },
   "outputs": [],
   "source": [
    "import requests\n",
    "from lxml import html"
   ]
  },
  {
   "cell_type": "code",
   "execution_count": 13,
   "metadata": {
    "collapsed": false
   },
   "outputs": [
    {
     "name": "stdout",
     "output_type": "stream",
     "text": [
      "林鄭：民望與辭職兩碼子事\n",
      "荷蘭國會大選: 執政黨宣布勝出少10席仍居第一大黨\n",
      "男途人上水挨撞捲車底不治\n",
      "內地漢組「鎅褲黨」巴士盜竊囚25月官指同類案具加刑因素\n",
      "夏威夷法宮裁決暫緩執行特朗普新入境禁令\n",
      "星國立大學續膺亞洲第一港大跌至第5\n",
      "「刺金」美女段式香對外報平安再度重申「我被騙了」\n",
      "媒體拿特朗普稅單發難走勢卻出人意料\n",
      "BBC訪問女兒亂闖爆紅網南韓教授幽默回應：「有穿褲子」\n",
      "DSE口試考廿四孝「滌親溺器」嚇窒考生\n",
      "消委會抽查近半超出每日攝取量碟頭飯鈉爆標味菜排骨炒麵最鹹最傷身\n",
      "上水軍地村傷人案改列企圖謀殺\n",
      "科大生「嗌莊」打交判守行為一年\n",
      "的士業不滿政府拒見商討專營的士計劃\n",
      "出雲號赴南海俄專家：遼寧艦可能出動\n",
      "「我們是一家人」... 李：將對台商祭更多優惠\n",
      "從外賣店「冒充」餐廳再思公共空間的意義\n",
      "黑龍江爆炸案疑犯引爆炸藥釀3死10傷\n",
      "陳德霖：港美息差將致資金外流港匯或觸及弱方兌換保證\n",
      "閉幕記招被問會否代美掌TPP 李克強︰不越俎代庖\n",
      "【輪證贏家】恒指牛仍可再追\n",
      "李澤楷支持林鄭月娥做特首\n",
      "【特稿】英軍歐聯8強死剩一丁Big 6冇影\n",
      "歐霸盃攻略︰伊巴復出主場開殺戒曼聯等炒羅斯托夫\n",
      "負摩納哥1：3 曼城歐聯夢再碎\n",
      "NBA／重建失敗當練兵湖人請高薪球員坐板凳\n",
      "【奇妙粵語頻道77台】奇妙電視公佈5月14日晚上正式啟播\n",
      "安以軒閃嫁百億富商「小叮噹」\n",
      "《有樓萬事足》編導岑應嫁消防英雄冇樓都嫁得：一齊儲錢！\n",
      "愛瑪屈臣就照片被盜採取法律行動\n",
      "春天來了HTC 神秘出新機\n",
      "港大取消天文學／數學／物理主修\n",
      "主題：台妹示範：Sony Xperia XZs 超級慢動作短片效果\n",
      "消委會測試5 款免費防毒軟件\n"
     ]
    }
   ],
   "source": [
    "# Send request to get the web page\n",
    "response = requests.get('http://news.google.com')\n",
    "\n",
    "# Check if the request succeeded (response code 200)\n",
    "if (response.status_code == 200):\n",
    "\n",
    "    # Parse the html from the webpage\n",
    "    pagehtml = html.fromstring(response.text)\n",
    "\n",
    "    # search for news headlines\n",
    "    news = pagehtml.xpath('//h2[@class=\"esc-lead-article-title\"] \\\n",
    "                          /a/span[@class=\"titletext\"]/text()')\n",
    "    \n",
    "# Print each news item in a new line\n",
    "print(\"\\n\".join(news))"
   ]
  },
  {
   "cell_type": "code",
   "execution_count": null,
   "metadata": {
    "collapsed": true
   },
   "outputs": [],
   "source": []
  }
 ],
 "metadata": {
  "kernelspec": {
   "display_name": "Python 3",
   "language": "python",
   "name": "python3"
  },
  "language_info": {
   "codemirror_mode": {
    "name": "ipython",
    "version": 3
   },
   "file_extension": ".py",
   "mimetype": "text/x-python",
   "name": "python",
   "nbconvert_exporter": "python",
   "pygments_lexer": "ipython3",
   "version": "3.5.2"
  }
 },
 "nbformat": 4,
 "nbformat_minor": 2
}
