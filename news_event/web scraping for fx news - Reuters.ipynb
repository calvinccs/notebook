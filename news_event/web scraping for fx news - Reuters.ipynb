{
 "cells": [
  {
   "cell_type": "markdown",
   "metadata": {},
   "source": [
    "# Scapping news data\n",
    "\n",
    "http://www.reuters.com/news/archive/europeanCurrencyNews?view=page&page=1&pageSize=10\n",
    "\n",
    "http://www.marketpulse.com/category/forex-news-round-up/page/1/"
   ]
  },
  {
   "cell_type": "code",
   "execution_count": 1,
   "metadata": {
    "collapsed": true
   },
   "outputs": [],
   "source": [
    "import requests\n",
    "import numpy as np\n",
    "import pandas as pd\n",
    "from bs4 import BeautifulSoup\n"
   ]
  },
  {
   "cell_type": "markdown",
   "metadata": {},
   "source": [
    "![](http://www.reuters.com/resources_v2/images/reuters_social_logo.png)\n",
    "\n",
    "http://www.reuters.com/news/archive/europeanCurrencyNews?view=page&page=1&pageSize=10"
   ]
  },
  {
   "cell_type": "code",
   "execution_count": 15,
   "metadata": {},
   "outputs": [],
   "source": [
    "df_reuters = pd.DataFrame()\n",
    "for i in range(1,3277):\n",
    "    url = 'http://www.reuters.com/news/archive/europeanCurrencyNews?view=page&page=%d&pageSize=10' %i\n",
    "    page = requests.get(url)\n",
    "    soup = BeautifulSoup(page.content, 'html.parser')\n",
    "\n",
    "    story = soup.find(id =\"content\").find_all('article')\n",
    "    headline = [story[i].find('h3').get_text().strip() for i in range(len(story))]\n",
    "    remark = [story[i].find('p').get_text().strip() for i in range(len(story))]\n",
    "    time = [pd.to_datetime(story[i].find('span').get_text().strip()).date() for i in range(len(story))]\n",
    "\n",
    "    df_part = pd.DataFrame({'time': time, 'headline': headline, 'remark': remark})\n",
    "    df_reuters = pd.concat([df_reuters, df_part])\n",
    "    \n",
    "df_reuters = df_reuters.reset_index(drop = True)\n",
    "df_reuters.to_csv('reuters.csv')"
   ]
  },
  {
   "cell_type": "code",
   "execution_count": 13,
   "metadata": {},
   "outputs": [
    {
     "name": "stdout",
     "output_type": "stream",
     "text": [
      "990\n"
     ]
    },
    {
     "data": {
      "text/html": [
       "<div>\n",
       "<table border=\"1\" class=\"dataframe\">\n",
       "  <thead>\n",
       "    <tr style=\"text-align: right;\">\n",
       "      <th></th>\n",
       "      <th>headline</th>\n",
       "      <th>remark</th>\n",
       "      <th>time</th>\n",
       "    </tr>\n",
       "  </thead>\n",
       "  <tbody>\n",
       "    <tr>\n",
       "      <th>985</th>\n",
       "      <td>FOREX-Dollar falls to two-week low after Fed s...</td>\n",
       "      <td>* Fed hikes rates, as expected, but keeps 2017...</td>\n",
       "      <td>2017-03-15</td>\n",
       "    </tr>\n",
       "    <tr>\n",
       "      <th>986</th>\n",
       "      <td>GLOBAL MARKETS-Stocks gain, dollar down as Fed...</td>\n",
       "      <td>* European focus also on Dutch elections\\n\\n (...</td>\n",
       "      <td>2017-03-15</td>\n",
       "    </tr>\n",
       "    <tr>\n",
       "      <th>987</th>\n",
       "      <td>UPDATE 2-Battered pound bounces back from 2-mo...</td>\n",
       "      <td>Britain's battered pound\\nrecovered half a per...</td>\n",
       "      <td>2017-03-15</td>\n",
       "    </tr>\n",
       "    <tr>\n",
       "      <th>988</th>\n",
       "      <td>Poll shows majority of Scots would vote to sta...</td>\n",
       "      <td>A majority of voters still\\noppose Scottish in...</td>\n",
       "      <td>2017-03-15</td>\n",
       "    </tr>\n",
       "    <tr>\n",
       "      <th>989</th>\n",
       "      <td>GLOBAL MARKETS-Investors focus on expected Fed...</td>\n",
       "      <td>* European focus also on Dutch elections\\n\\n (...</td>\n",
       "      <td>2017-03-15</td>\n",
       "    </tr>\n",
       "  </tbody>\n",
       "</table>\n",
       "</div>"
      ],
      "text/plain": [
       "                                              headline  \\\n",
       "985  FOREX-Dollar falls to two-week low after Fed s...   \n",
       "986  GLOBAL MARKETS-Stocks gain, dollar down as Fed...   \n",
       "987  UPDATE 2-Battered pound bounces back from 2-mo...   \n",
       "988  Poll shows majority of Scots would vote to sta...   \n",
       "989  GLOBAL MARKETS-Investors focus on expected Fed...   \n",
       "\n",
       "                                                remark        time  \n",
       "985  * Fed hikes rates, as expected, but keeps 2017...  2017-03-15  \n",
       "986  * European focus also on Dutch elections\\n\\n (...  2017-03-15  \n",
       "987  Britain's battered pound\\nrecovered half a per...  2017-03-15  \n",
       "988  A majority of voters still\\noppose Scottish in...  2017-03-15  \n",
       "989  * European focus also on Dutch elections\\n\\n (...  2017-03-15  "
      ]
     },
     "execution_count": 13,
     "metadata": {},
     "output_type": "execute_result"
    }
   ],
   "source": [
    "print(len(df_reuters))\n",
    "\n",
    "df_reuters.tail()"
   ]
  },
  {
   "cell_type": "markdown",
   "metadata": {},
   "source": [
    "![](https://www.oanda.com/wandacache/marketpulse-0313b3e2a316081d1cbef4fbf1fb2eaacc5e9b56.jpg)\n",
    "\n",
    "http://www.marketpulse.com/category/forex-news-round-up/page/1/"
   ]
  },
  {
   "cell_type": "code",
   "execution_count": 205,
   "metadata": {},
   "outputs": [
    {
     "data": {
      "text/html": [
       "<div>\n",
       "<table border=\"1\" class=\"dataframe\">\n",
       "  <thead>\n",
       "    <tr style=\"text-align: right;\">\n",
       "      <th></th>\n",
       "      <th>headline</th>\n",
       "      <th>line</th>\n",
       "      <th>time</th>\n",
       "      <th>writer</th>\n",
       "    </tr>\n",
       "  </thead>\n",
       "  <tbody>\n",
       "    <tr>\n",
       "      <th>0</th>\n",
       "      <td>GBP Lower in Volatile Trading After Brexit Tri...</td>\n",
       "      <td>Sterling slipped against the dollar after a ch...</td>\n",
       "      <td>2017-03-29</td>\n",
       "      <td>Alfonso</td>\n",
       "    </tr>\n",
       "    <tr>\n",
       "      <th>1</th>\n",
       "      <td>USD Higher As Fed and ECB Comments Boost Currency</td>\n",
       "      <td>The dollar rose to its highest in more than a ...</td>\n",
       "      <td>2017-03-29</td>\n",
       "      <td>Alfonso</td>\n",
       "    </tr>\n",
       "    <tr>\n",
       "      <th>2</th>\n",
       "      <td>Gold Higher After Brexit Triggered</td>\n",
       "      <td>Gold edged up on Wednesday, as uncertainty abo...</td>\n",
       "      <td>2017-03-29</td>\n",
       "      <td>Alfonso</td>\n",
       "    </tr>\n",
       "    <tr>\n",
       "      <th>3</th>\n",
       "      <td>US Drillers Hedged Against Falling Oil Prices</td>\n",
       "      <td>U.S. drillers are insulating themselves agains...</td>\n",
       "      <td>2017-03-29</td>\n",
       "      <td>Alfonso</td>\n",
       "    </tr>\n",
       "    <tr>\n",
       "      <th>4</th>\n",
       "      <td>Boston Fed Rosengren Wants 4 Rate Hikes in 2017</td>\n",
       "      <td>If Boston Federal Reserve President Eric Rosen...</td>\n",
       "      <td>2017-03-29</td>\n",
       "      <td>Alfonso</td>\n",
       "    </tr>\n",
       "  </tbody>\n",
       "</table>\n",
       "</div>"
      ],
      "text/plain": [
       "                                            headline  \\\n",
       "0  GBP Lower in Volatile Trading After Brexit Tri...   \n",
       "1  USD Higher As Fed and ECB Comments Boost Currency   \n",
       "2                 Gold Higher After Brexit Triggered   \n",
       "3      US Drillers Hedged Against Falling Oil Prices   \n",
       "4    Boston Fed Rosengren Wants 4 Rate Hikes in 2017   \n",
       "\n",
       "                                                line        time   writer  \n",
       "0  Sterling slipped against the dollar after a ch...  2017-03-29  Alfonso  \n",
       "1  The dollar rose to its highest in more than a ...  2017-03-29  Alfonso  \n",
       "2  Gold edged up on Wednesday, as uncertainty abo...  2017-03-29  Alfonso  \n",
       "3  U.S. drillers are insulating themselves agains...  2017-03-29  Alfonso  \n",
       "4  If Boston Federal Reserve President Eric Rosen...  2017-03-29  Alfonso  "
      ]
     },
     "execution_count": 205,
     "metadata": {},
     "output_type": "execute_result"
    }
   ],
   "source": [
    "df_mapulse = pd.DataFrame()\n",
    "for i in range(1,1162): #1162\n",
    "    url = 'http://www.marketpulse.com/category/forex-news-round-up/page/%d/' %i\n",
    "    page = requests.get(url)\n",
    "    soup = BeautifulSoup(page.content, 'html.parser')\n",
    "\n",
    "    story = soup.find(id=\"category\").find_all('article')\n",
    "    headline = [story[i].find_all('a')[0].get_text() for i in range(len(story))]\n",
    "    writer = [story[i].find_all('a')[1].get_text() for i in range(len(story))]\n",
    "    time = [pd.to_datetime(story[i].find('time').get_text()).date() for i in range(len(story))]\n",
    "    line = [story[i].find('p').get_text() for i in range(len(story))]\n",
    "    \n",
    "    df_part = pd.DataFrame({'time': time, 'headline': headline, 'line': line, 'writer': writer})\n",
    "    df_mapulse = pd.concat([df_mapulse, df_part])\n",
    "    \n",
    "df_mapulse = df_mapulse.reset_index(drop = True)\n",
    "# df_mapulse.head()\n",
    "df_mapulse.to_csv('mapulse.csv')"
   ]
  },
  {
   "cell_type": "code",
   "execution_count": null,
   "metadata": {
    "collapsed": true
   },
   "outputs": [],
   "source": []
  }
 ],
 "metadata": {
  "anaconda-cloud": {},
  "kernelspec": {
   "display_name": "Python 3",
   "language": "python",
   "name": "python3"
  },
  "language_info": {
   "codemirror_mode": {
    "name": "ipython",
    "version": 3
   },
   "file_extension": ".py",
   "mimetype": "text/x-python",
   "name": "python",
   "nbconvert_exporter": "python",
   "pygments_lexer": "ipython3",
   "version": "3.6.0"
  }
 },
 "nbformat": 4,
 "nbformat_minor": 1
}
