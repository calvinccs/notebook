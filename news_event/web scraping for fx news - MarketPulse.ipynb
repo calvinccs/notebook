{
 "cells": [
  {
   "cell_type": "markdown",
   "metadata": {},
   "source": [
    "# Marketpulse\n",
    "\n",
    "http://www.marketpulse.com/category/forex-news-round-up/page/1/"
   ]
  },
  {
   "cell_type": "code",
   "execution_count": 1,
   "metadata": {
    "collapsed": true
   },
   "outputs": [],
   "source": [
    "import requests\n",
    "import numpy as np\n",
    "import pandas as pd\n",
    "from bs4 import BeautifulSoup"
   ]
  },
  {
   "cell_type": "code",
   "execution_count": 101,
   "metadata": {},
   "outputs": [],
   "source": [
    "df_mapulse = pd.DataFrame()\n",
    "for i in range(1162): #1162\n",
    "    url = 'http://www.marketpulse.com/category/forex-news-round-up/page/%d/' %i\n",
    "    page = requests.get(url)\n",
    "    soup = BeautifulSoup(page.content, 'html.parser')\n",
    "\n",
    "    story = soup.find(id=\"category\").find_all('article')\n",
    "    headline = [story[i].find_all('a')[0].get_text() for i in range(len(story))]\n",
    "    writer = [story[i].find_all('a')[1].get_text() for i in range(len(story))]\n",
    "    posttime = [story[i].find_all('time')[0].get_text() for i in range(len(story))]\n",
    "    time = [pd.to_datetime('now').date() if 'ago' in i else pd.to_datetime(i).date() for i in posttime]     \n",
    "    line = [story[i].find('p') for i in range(len(story))]\n",
    "\n",
    "    df_part = pd.DataFrame({'time': time, 'headline': headline, 'line': line, 'writer': writer})\n",
    "    df_mapulse = pd.concat([df_mapulse, df_part])\n",
    "    \n",
    "df_mapulse = df_mapulse.reset_index(drop = True)\n",
    "#df_mapulse.tail()\n",
    "df_mapulse.to_csv('mapulse.csv')"
   ]
  },
  {
   "cell_type": "code",
   "execution_count": 82,
   "metadata": {},
   "outputs": [
    {
     "data": {
      "text/plain": [
       "<p>The US is on the verge of meeting most of the economic conditions the Federal Reserve has set to inc...</p>"
      ]
     },
     "execution_count": 82,
     "metadata": {},
     "output_type": "execute_result"
    }
   ],
   "source": [
    "story[0].find('p')\n"
   ]
  },
  {
   "cell_type": "code",
   "execution_count": 70,
   "metadata": {},
   "outputs": [
    {
     "data": {
      "text/plain": [
       "145"
      ]
     },
     "execution_count": 70,
     "metadata": {},
     "output_type": "execute_result"
    }
   ],
   "source": [
    "i"
   ]
  },
  {
   "cell_type": "code",
   "execution_count": 89,
   "metadata": {},
   "outputs": [
    {
     "data": {
      "text/plain": [
       "['The US is on the verge of meeting most of the economic conditions the Federal Reserve has set to inc...',\n",
       " 'Investors will be watching for signs of tension between Japanese and U.S. powers this weekend, when ...',\n",
       " 'Gold is heading for the longest run of weekly losses this year courtesy of the Federal Reserve, whic...',\n",
       " 'A rift on fiscal policy and currencies is likely to set the stage for G7 advanced economies to agree...',\n",
       " 'Bookmakers have cut the odds on Britain voting to remain in the EU, as a flurry of bets suggests the...',\n",
       " 'Eurogroup president Jeroen Dijsselbloem said on Friday that he believed Greece and its creditors cou...',\n",
       " 'Crude oil prices headed lower in early Asian trade Thursday as a stronger dollar and the unexpected ...',\n",
       " 'European stocks fell from a two-week high after minutes from the Federal Reserve’s last meeting sh...',\n",
       " 'The Federal Reserve is torn about whether it is leading the stock market or does it react to it, but...']"
      ]
     },
     "execution_count": 89,
     "metadata": {},
     "output_type": "execute_result"
    }
   ],
   "source": [
    "[story[i].find('p').get_text() for i in range(9)]"
   ]
  },
  {
   "cell_type": "code",
   "execution_count": 94,
   "metadata": {},
   "outputs": [
    {
     "data": {
      "text/plain": [
       "<article class=\"footnote post medium clr\" role=\"article\">\n",
       "<h2 role=\"heading\">\n",
       "<a href=\"http://www.marketpulse.com/20160518/us-oil-inventories-show-a-surprise-rise-to-1-3m-in-the-last-week-wti/\">US Oil Inventories show a surprise rise to 1.3M in the last week #WTI</a>\n",
       "</h2>\n",
       "<div class=\"postinfo\" role=\"presentation\">\n",
       "      Posted by <a class=\"author\" href=\"/author/alfonso-esparza/\">Alfonso</a>\n",
       "<time class=\"time wib\" datetime=\"201605181034\" pubdate=\"\">May 18, 2016</time>\n",
       "<a addthis:title=\"US Oil Inventories show a surprise rise to 1.3M in the last week #WTI\" addthis:url=\"http://www.marketpulse.com/20160518/us-oil-inventories-show-a-surprise-rise-to-1-3m-in-the-last-week-wti/\" class=\"addthis_button\" href=\"http://www.marketpulse.com/20160518/us-oil-inventories-show-a-surprise-rise-to-1-3m-in-the-last-week-wti/\">Share</a>\n",
       "<span class=\"comments-num wib\"><span class=\"dsq-postid\" data-dsqidentifier=\"732793 https://marketpulse.com/?p=732793\">1</span></span>\n",
       "</div>\n",
       "</article>"
      ]
     },
     "execution_count": 94,
     "metadata": {},
     "output_type": "execute_result"
    }
   ],
   "source": [
    "story[9]"
   ]
  },
  {
   "cell_type": "code",
   "execution_count": 97,
   "metadata": {},
   "outputs": [
    {
     "data": {
      "text/plain": [
       "<article class=\"footnote post medium clr\" role=\"article\">\n",
       "<h2 role=\"heading\">\n",
       "<a href=\"http://www.marketpulse.com/20160519/mohamed-el-erian-federal-reserve-is-torn/\">Mohamed El-Erian: Federal Reserve Is Torn</a>\n",
       "</h2>\n",
       "<div class=\"postinfo\" role=\"presentation\">\n",
       "      Posted by <a class=\"author\" href=\"/author/cerlam/\">Craig</a>\n",
       "<time class=\"time wib\" datetime=\"\" pubdate=\"\">May 19, 2016</time>\n",
       "<a addthis:title=\"Mohamed El-Erian: Federal Reserve Is Torn\" addthis:url=\"http://www.marketpulse.com/20160519/mohamed-el-erian-federal-reserve-is-torn/\" class=\"addthis_button\" href=\"http://www.marketpulse.com/20160519/mohamed-el-erian-federal-reserve-is-torn/\">Share</a>\n",
       "<span class=\"comments-num wib\"><span class=\"dsq-postid\" data-dsqidentifier=\"732805 https://marketpulse.com/?p=732805\">0</span></span>\n",
       "</div>\n",
       "<p>The Federal Reserve is torn about whether it is leading the stock market or does it react to it, but...</p>\n",
       "</article>"
      ]
     },
     "execution_count": 97,
     "metadata": {},
     "output_type": "execute_result"
    }
   ],
   "source": [
    "story[8]"
   ]
  },
  {
   "cell_type": "code",
   "execution_count": 100,
   "metadata": {},
   "outputs": [
    {
     "data": {
      "text/plain": [
       "True"
      ]
     },
     "execution_count": 100,
     "metadata": {},
     "output_type": "execute_result"
    }
   ],
   "source": [
    "[story[i].find('p') for i in range(len(story))][9] == None"
   ]
  },
  {
   "cell_type": "code",
   "execution_count": null,
   "metadata": {
    "collapsed": true
   },
   "outputs": [],
   "source": []
  }
 ],
 "metadata": {
  "kernelspec": {
   "display_name": "Python 3",
   "language": "python",
   "name": "python3"
  },
  "language_info": {
   "codemirror_mode": {
    "name": "ipython",
    "version": 3
   },
   "file_extension": ".py",
   "mimetype": "text/x-python",
   "name": "python",
   "nbconvert_exporter": "python",
   "pygments_lexer": "ipython3",
   "version": "3.6.0"
  }
 },
 "nbformat": 4,
 "nbformat_minor": 2
}
