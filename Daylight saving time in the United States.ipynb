{
 "cells": [
  {
   "cell_type": "markdown",
   "metadata": {},
   "source": [
    "# Create functions to determine daylight saving time in the United States"
   ]
  },
  {
   "cell_type": "code",
   "execution_count": 1,
   "metadata": {
    "collapsed": true
   },
   "outputs": [],
   "source": [
    "import pandas as pd"
   ]
  },
  {
   "cell_type": "code",
   "execution_count": 2,
   "metadata": {
    "collapsed": false
   },
   "outputs": [
    {
     "data": {
      "text/html": [
       "<div>\n",
       "<table border=\"1\" class=\"dataframe\">\n",
       "  <thead>\n",
       "    <tr style=\"text-align: right;\">\n",
       "      <th></th>\n",
       "      <th>index</th>\n",
       "      <th>Year</th>\n",
       "      <th>Start</th>\n",
       "      <th>End</th>\n",
       "    </tr>\n",
       "  </thead>\n",
       "  <tbody>\n",
       "    <tr>\n",
       "      <th>0</th>\n",
       "      <td>0</td>\n",
       "      <td>2014</td>\n",
       "      <td>March 9</td>\n",
       "      <td>November 2</td>\n",
       "    </tr>\n",
       "    <tr>\n",
       "      <th>1</th>\n",
       "      <td>1</td>\n",
       "      <td>2015</td>\n",
       "      <td>March 8</td>\n",
       "      <td>November 1</td>\n",
       "    </tr>\n",
       "    <tr>\n",
       "      <th>2</th>\n",
       "      <td>2</td>\n",
       "      <td>2016</td>\n",
       "      <td>March 13</td>\n",
       "      <td>November 6</td>\n",
       "    </tr>\n",
       "    <tr>\n",
       "      <th>3</th>\n",
       "      <td>3</td>\n",
       "      <td>2017</td>\n",
       "      <td>March 12</td>\n",
       "      <td>November 5</td>\n",
       "    </tr>\n",
       "    <tr>\n",
       "      <th>4</th>\n",
       "      <td>4</td>\n",
       "      <td>2018</td>\n",
       "      <td>March 11</td>\n",
       "      <td>November 4</td>\n",
       "    </tr>\n",
       "    <tr>\n",
       "      <th>5</th>\n",
       "      <td>5</td>\n",
       "      <td>2019</td>\n",
       "      <td>March 10</td>\n",
       "      <td>November 3</td>\n",
       "    </tr>\n",
       "    <tr>\n",
       "      <th>6</th>\n",
       "      <td>6</td>\n",
       "      <td>2020</td>\n",
       "      <td>March 8</td>\n",
       "      <td>November 1</td>\n",
       "    </tr>\n",
       "  </tbody>\n",
       "</table>\n",
       "</div>"
      ],
      "text/plain": [
       "   index  Year     Start         End\n",
       "0      0  2014   March 9  November 2\n",
       "1      1  2015   March 8  November 1\n",
       "2      2  2016  March 13  November 6\n",
       "3      3  2017  March 12  November 5\n",
       "4      4  2018  March 11  November 4\n",
       "5      5  2019  March 10  November 3\n",
       "6      6  2020   March 8  November 1"
      ]
     },
     "execution_count": 2,
     "metadata": {},
     "output_type": "execute_result"
    }
   ],
   "source": [
    "df = pd.read_csv('daylightsavingus.csv')\n",
    "df = df.reset_index()\n",
    "df"
   ]
  },
  {
   "cell_type": "code",
   "execution_count": 3,
   "metadata": {
    "collapsed": false
   },
   "outputs": [
    {
     "data": {
      "text/html": [
       "<div>\n",
       "<table border=\"1\" class=\"dataframe\">\n",
       "  <thead>\n",
       "    <tr style=\"text-align: right;\">\n",
       "      <th></th>\n",
       "      <th>start</th>\n",
       "      <th>end</th>\n",
       "    </tr>\n",
       "  </thead>\n",
       "  <tbody>\n",
       "    <tr>\n",
       "      <th>0</th>\n",
       "      <td>2014-3-9</td>\n",
       "      <td>2014-11-2</td>\n",
       "    </tr>\n",
       "    <tr>\n",
       "      <th>1</th>\n",
       "      <td>2015-3-8</td>\n",
       "      <td>2015-11-1</td>\n",
       "    </tr>\n",
       "    <tr>\n",
       "      <th>2</th>\n",
       "      <td>2016-3-13</td>\n",
       "      <td>2016-11-6</td>\n",
       "    </tr>\n",
       "    <tr>\n",
       "      <th>3</th>\n",
       "      <td>2017-3-12</td>\n",
       "      <td>2017-11-5</td>\n",
       "    </tr>\n",
       "    <tr>\n",
       "      <th>4</th>\n",
       "      <td>2018-3-11</td>\n",
       "      <td>2018-11-4</td>\n",
       "    </tr>\n",
       "    <tr>\n",
       "      <th>5</th>\n",
       "      <td>2019-3-10</td>\n",
       "      <td>2019-11-3</td>\n",
       "    </tr>\n",
       "    <tr>\n",
       "      <th>6</th>\n",
       "      <td>2020-3-8</td>\n",
       "      <td>2020-11-1</td>\n",
       "    </tr>\n",
       "  </tbody>\n",
       "</table>\n",
       "</div>"
      ],
      "text/plain": [
       "       start        end\n",
       "0   2014-3-9  2014-11-2\n",
       "1   2015-3-8  2015-11-1\n",
       "2  2016-3-13  2016-11-6\n",
       "3  2017-3-12  2017-11-5\n",
       "4  2018-3-11  2018-11-4\n",
       "5  2019-3-10  2019-11-3\n",
       "6   2020-3-8  2020-11-1"
      ]
     },
     "execution_count": 3,
     "metadata": {},
     "output_type": "execute_result"
    }
   ],
   "source": [
    "df['start'] = df['index'].apply(lambda x: '%s-3-%s' %(str(df.Year[x]), df.Start[x][6:]))\n",
    "df['end'] = df['index'].apply(lambda x: '%s-11-%s' %(str(df.Year[x]), df.End[x][9:]))\n",
    "df = df.drop(['index', 'Year', 'Start', 'End'], axis = 1)\n",
    "df"
   ]
  },
  {
   "cell_type": "code",
   "execution_count": 4,
   "metadata": {
    "collapsed": false
   },
   "outputs": [
    {
     "data": {
      "text/html": [
       "<div>\n",
       "<table border=\"1\" class=\"dataframe\">\n",
       "  <thead>\n",
       "    <tr style=\"text-align: right;\">\n",
       "      <th></th>\n",
       "      <th>start</th>\n",
       "      <th>end</th>\n",
       "      <th>start_wd</th>\n",
       "      <th>end_wd</th>\n",
       "    </tr>\n",
       "  </thead>\n",
       "  <tbody>\n",
       "    <tr>\n",
       "      <th>0</th>\n",
       "      <td>2014-3-9</td>\n",
       "      <td>2014-11-2</td>\n",
       "      <td>6</td>\n",
       "      <td>6</td>\n",
       "    </tr>\n",
       "    <tr>\n",
       "      <th>1</th>\n",
       "      <td>2015-3-8</td>\n",
       "      <td>2015-11-1</td>\n",
       "      <td>6</td>\n",
       "      <td>6</td>\n",
       "    </tr>\n",
       "    <tr>\n",
       "      <th>2</th>\n",
       "      <td>2016-3-13</td>\n",
       "      <td>2016-11-6</td>\n",
       "      <td>6</td>\n",
       "      <td>6</td>\n",
       "    </tr>\n",
       "    <tr>\n",
       "      <th>3</th>\n",
       "      <td>2017-3-12</td>\n",
       "      <td>2017-11-5</td>\n",
       "      <td>6</td>\n",
       "      <td>6</td>\n",
       "    </tr>\n",
       "    <tr>\n",
       "      <th>4</th>\n",
       "      <td>2018-3-11</td>\n",
       "      <td>2018-11-4</td>\n",
       "      <td>6</td>\n",
       "      <td>6</td>\n",
       "    </tr>\n",
       "    <tr>\n",
       "      <th>5</th>\n",
       "      <td>2019-3-10</td>\n",
       "      <td>2019-11-3</td>\n",
       "      <td>6</td>\n",
       "      <td>6</td>\n",
       "    </tr>\n",
       "    <tr>\n",
       "      <th>6</th>\n",
       "      <td>2020-3-8</td>\n",
       "      <td>2020-11-1</td>\n",
       "      <td>6</td>\n",
       "      <td>6</td>\n",
       "    </tr>\n",
       "  </tbody>\n",
       "</table>\n",
       "</div>"
      ],
      "text/plain": [
       "       start        end  start_wd  end_wd\n",
       "0   2014-3-9  2014-11-2         6       6\n",
       "1   2015-3-8  2015-11-1         6       6\n",
       "2  2016-3-13  2016-11-6         6       6\n",
       "3  2017-3-12  2017-11-5         6       6\n",
       "4  2018-3-11  2018-11-4         6       6\n",
       "5  2019-3-10  2019-11-3         6       6\n",
       "6   2020-3-8  2020-11-1         6       6"
      ]
     },
     "execution_count": 4,
     "metadata": {},
     "output_type": "execute_result"
    }
   ],
   "source": [
    "df['start_wd'] = pd.to_datetime(df.start).dt.weekday\n",
    "df['end_wd'] = pd.to_datetime(df.end).dt.weekday\n",
    "df"
   ]
  },
  {
   "cell_type": "markdown",
   "metadata": {},
   "source": [
    "> start on any sunday from 8th Mar to 14th Mar\n",
    "\n",
    "> end on any sunday from 1st Nov to 7th Nov"
   ]
  },
  {
   "cell_type": "code",
   "execution_count": 11,
   "metadata": {
    "collapsed": false
   },
   "outputs": [],
   "source": [
    "def dls(year):\n",
    "    # given year and return start and end date of daylight saving\n",
    "    df = pd.DataFrame({'start': [pd.to_datetime('%d-3-%d'%(year, i)) for i in range(8, 15)],\n",
    "                       'end': [pd.to_datetime('%d-11-%d'%(year, i)) for i in range(1, 8)]})\n",
    "    df['s_wd'] = df.start.dt.weekday\n",
    "    df['e_wd'] = df.end.dt.weekday\n",
    "    return [str(df[df.s_wd == 6].start.tolist()[0].date()), str(df[df.e_wd == 6].end.tolist()[0].date())]\n",
    "\n",
    "def isdls(date):\n",
    "    # given a date and determine it is within daylight saving or not\n",
    "    ds_zone = dls(pd.to_datetime(date).year)\n",
    "    if (date >= ds_zone[0]) and (date < ds_zone[1]):\n",
    "        return True\n",
    "    else:\n",
    "        return False"
   ]
  },
  {
   "cell_type": "code",
   "execution_count": null,
   "metadata": {
    "collapsed": true
   },
   "outputs": [],
   "source": []
  },
  {
   "cell_type": "code",
   "execution_count": 12,
   "metadata": {
    "collapsed": false
   },
   "outputs": [
    {
     "data": {
      "text/plain": [
       "['2015-03-08', '2015-11-01']"
      ]
     },
     "execution_count": 12,
     "metadata": {},
     "output_type": "execute_result"
    }
   ],
   "source": [
    "dls(2015)"
   ]
  },
  {
   "cell_type": "code",
   "execution_count": 13,
   "metadata": {
    "collapsed": false
   },
   "outputs": [
    {
     "data": {
      "text/plain": [
       "False"
      ]
     },
     "execution_count": 13,
     "metadata": {},
     "output_type": "execute_result"
    }
   ],
   "source": [
    "isdls('2014-11-03')"
   ]
  },
  {
   "cell_type": "code",
   "execution_count": null,
   "metadata": {
    "collapsed": true
   },
   "outputs": [],
   "source": []
  }
 ],
 "metadata": {
  "kernelspec": {
   "display_name": "Python 3",
   "language": "python",
   "name": "python3"
  },
  "language_info": {
   "codemirror_mode": {
    "name": "ipython",
    "version": 3
   },
   "file_extension": ".py",
   "mimetype": "text/x-python",
   "name": "python",
   "nbconvert_exporter": "python",
   "pygments_lexer": "ipython3",
   "version": "3.5.2"
  }
 },
 "nbformat": 4,
 "nbformat_minor": 2
}
