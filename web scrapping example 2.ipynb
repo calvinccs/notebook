{
 "cells": [
  {
   "cell_type": "markdown",
   "metadata": {
    "deletable": true,
    "editable": true
   },
   "source": [
    "# Scapping Daylight Saving data from https://www.timeanddate.com"
   ]
  },
  {
   "cell_type": "code",
   "execution_count": 126,
   "metadata": {
    "collapsed": false,
    "deletable": true,
    "editable": true
   },
   "outputs": [],
   "source": [
    "import requests\n",
    "import numpy as np\n",
    "import pandas as pd\n",
    "from bs4 import BeautifulSoup\n",
    "\n",
    "yr = 2017\n",
    "page = requests.get(\"https://www.timeanddate.com/time/dst/%d.html\" %yr)\n",
    "soup = BeautifulSoup(page.content, 'html.parser')\n",
    "\n",
    "locations = ['United States', 'Australia', 'United Kingdom', 'Japan', 'Canada', 'New Zealand', 'Switzerland', 'Germany']"
   ]
  },
  {
   "cell_type": "code",
   "execution_count": 130,
   "metadata": {
    "collapsed": false,
    "deletable": true,
    "editable": true
   },
   "outputs": [
    {
     "data": {
      "text/html": [
       "<div>\n",
       "<table border=\"1\" class=\"dataframe\">\n",
       "  <thead>\n",
       "    <tr style=\"text-align: right;\">\n",
       "      <th></th>\n",
       "      <th>Country</th>\n",
       "      <th>DST_start</th>\n",
       "      <th>DST_end</th>\n",
       "    </tr>\n",
       "  </thead>\n",
       "  <tbody>\n",
       "    <tr>\n",
       "      <th>0</th>\n",
       "      <td>Australia</td>\n",
       "      <td>2017-10-01</td>\n",
       "      <td>2017-04-02</td>\n",
       "    </tr>\n",
       "    <tr>\n",
       "      <th>1</th>\n",
       "      <td>Canada</td>\n",
       "      <td>2017-03-12</td>\n",
       "      <td>2017-11-05</td>\n",
       "    </tr>\n",
       "    <tr>\n",
       "      <th>2</th>\n",
       "      <td>Germany</td>\n",
       "      <td>2017-03-26</td>\n",
       "      <td>2017-10-29</td>\n",
       "    </tr>\n",
       "    <tr>\n",
       "      <th>3</th>\n",
       "      <td>Japan</td>\n",
       "      <td>NaN</td>\n",
       "      <td>NaN</td>\n",
       "    </tr>\n",
       "    <tr>\n",
       "      <th>4</th>\n",
       "      <td>New Zealand</td>\n",
       "      <td>2017-09-24</td>\n",
       "      <td>2017-04-02</td>\n",
       "    </tr>\n",
       "    <tr>\n",
       "      <th>5</th>\n",
       "      <td>Switzerland</td>\n",
       "      <td>2017-03-26</td>\n",
       "      <td>2017-10-29</td>\n",
       "    </tr>\n",
       "    <tr>\n",
       "      <th>6</th>\n",
       "      <td>United Kingdom</td>\n",
       "      <td>2017-03-26</td>\n",
       "      <td>2017-10-29</td>\n",
       "    </tr>\n",
       "    <tr>\n",
       "      <th>7</th>\n",
       "      <td>United States</td>\n",
       "      <td>2017-03-12</td>\n",
       "      <td>2017-11-05</td>\n",
       "    </tr>\n",
       "  </tbody>\n",
       "</table>\n",
       "</div>"
      ],
      "text/plain": [
       "          Country   DST_start     DST_end\n",
       "0       Australia  2017-10-01  2017-04-02\n",
       "1          Canada  2017-03-12  2017-11-05\n",
       "2         Germany  2017-03-26  2017-10-29\n",
       "3           Japan         NaN         NaN\n",
       "4     New Zealand  2017-09-24  2017-04-02\n",
       "5     Switzerland  2017-03-26  2017-10-29\n",
       "6  United Kingdom  2017-03-26  2017-10-29\n",
       "7   United States  2017-03-12  2017-11-05"
      ]
     },
     "execution_count": 130,
     "metadata": {},
     "output_type": "execute_result"
    }
   ],
   "source": [
    "tablebody = soup.find(\"tbody\")\n",
    "countries = tablebody.find_all(\"tr\")\n",
    "dst = []\n",
    "for i in range(len(countries)):\n",
    "    try:\n",
    "        if countries[i].find(\"a\").get_text() in locations:\n",
    "            if 'No DST' in countries[i].find_all(\"td\")[1].get_text():\n",
    "                item = [countries[i].find(\"a\").get_text(), np.NaN, np.NaN]\n",
    "            else:\n",
    "                start = str(pd.to_datetime('%s %d'%(countries[i].find_all(\"td\")[1].get_text()[8:], yr)).date())\n",
    "                end = str(pd.to_datetime('%s %d'%(countries[i].find_all(\"td\")[2].get_text()[8:], yr)).date())\n",
    "                item = [countries[i].find(\"a\").get_text(), start, end]\n",
    "            dst.append(item)\n",
    "    except:\n",
    "        pass\n",
    "    \n",
    "df = pd.DataFrame(dst, columns = ['Country', 'DST_start', 'DST_end'])\n",
    "df"
   ]
  },
  {
   "cell_type": "code",
   "execution_count": null,
   "metadata": {
    "collapsed": true,
    "deletable": true,
    "editable": true
   },
   "outputs": [],
   "source": []
  },
  {
   "cell_type": "code",
   "execution_count": null,
   "metadata": {
    "collapsed": true,
    "deletable": true,
    "editable": true
   },
   "outputs": [],
   "source": []
  }
 ],
 "metadata": {
  "anaconda-cloud": {},
  "kernelspec": {
   "display_name": "Python 3",
   "language": "python",
   "name": "python3"
  },
  "language_info": {
   "codemirror_mode": {
    "name": "ipython",
    "version": 3
   },
   "file_extension": ".py",
   "mimetype": "text/x-python",
   "name": "python",
   "nbconvert_exporter": "python",
   "pygments_lexer": "ipython3",
   "version": "3.5.2"
  }
 },
 "nbformat": 4,
 "nbformat_minor": 2
}
