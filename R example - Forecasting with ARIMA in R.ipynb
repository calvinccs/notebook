{
 "cells": [
  {
   "cell_type": "markdown",
   "metadata": {},
   "source": [
    "# Introduction to Forecasting with ARIMA in R\n",
    "\n",
    "tutorial: https://www.datascience.com/blog/introduction-to-forecasting-with-arima-in-r-learn-data-science-tutorials\n",
    "\n",
    "data: https://archive.ics.uci.edu/ml/datasets/Bike+Sharing+Dataset\n",
    "\n",
    "This tutorial will provide a step-by-step guide for fitting an ARIMA model using R. ARIMA models are a popular and flexible class of forecasting model that utilize historical information to make predictions. This type of model is a basic forecasting technique that can be used as a foundation for more complex models. In this tutorial, we walk through an example of examining time series for demand at a bike-sharing service, fitting an ARIMA model, and creating a basic forecast. "
   ]
  },
  {
   "cell_type": "raw",
   "metadata": {
    "collapsed": false
   },
   "source": [
    "R.Version()"
   ]
  },
  {
   "cell_type": "code",
   "execution_count": 2,
   "metadata": {
    "collapsed": false
   },
   "outputs": [
    {
     "data": {
      "text/html": [
       "'C:/Users/CalvinCheung/Documents/DataBox/WORKS/examples'"
      ],
      "text/latex": [
       "'C:/Users/CalvinCheung/Documents/DataBox/WORKS/examples'"
      ],
      "text/markdown": [
       "'C:/Users/CalvinCheung/Documents/DataBox/WORKS/examples'"
      ],
      "text/plain": [
       "[1] \"C:/Users/CalvinCheung/Documents/DataBox/WORKS/examples\""
      ]
     },
     "metadata": {},
     "output_type": "display_data"
    }
   ],
   "source": [
    "getwd()"
   ]
  },
  {
   "cell_type": "code",
   "execution_count": 3,
   "metadata": {
    "collapsed": false
   },
   "outputs": [],
   "source": [
    "library('ggplot2')\n",
    "library('forecast')\n",
    "library('tseries')"
   ]
  },
  {
   "cell_type": "code",
   "execution_count": 4,
   "metadata": {
    "collapsed": true
   },
   "outputs": [],
   "source": [
    "daily_data = read.csv('Bike-Sharing-Dataset/day.csv', header=TRUE, stringsAsFactors=FALSE)"
   ]
  },
  {
   "cell_type": "code",
   "execution_count": 20,
   "metadata": {
    "collapsed": false,
    "scrolled": false
   },
   "outputs": [
    {
     "name": "stdout",
     "output_type": "stream",
     "text": [
      "[1] \"list\"\n",
      "[1] 731  16\n"
     ]
    }
   ],
   "source": [
    "# show variable type, size\n",
    "print(typeof(daily_data))\n",
    "print(dim(daily_data))"
   ]
  },
  {
   "cell_type": "code",
   "execution_count": 25,
   "metadata": {
    "collapsed": false
   },
   "outputs": [
    {
     "data": {
      "text/html": [
       "<table>\n",
       "<thead><tr><th scope=col>instant</th><th scope=col>dteday</th><th scope=col>season</th><th scope=col>yr</th><th scope=col>mnth</th><th scope=col>holiday</th><th scope=col>weekday</th><th scope=col>workingday</th><th scope=col>weathersit</th><th scope=col>temp</th><th scope=col>atemp</th><th scope=col>hum</th><th scope=col>windspeed</th><th scope=col>casual</th><th scope=col>registered</th><th scope=col>cnt</th></tr></thead>\n",
       "<tbody>\n",
       "\t<tr><td>1         </td><td>2011-01-01</td><td>1         </td><td>0         </td><td>1         </td><td>0         </td><td>6         </td><td>0         </td><td>2         </td><td>0.344167  </td><td>0.363625  </td><td>0.805833  </td><td>0.1604460 </td><td>331       </td><td> 654      </td><td> 985      </td></tr>\n",
       "\t<tr><td>2         </td><td>2011-01-02</td><td>1         </td><td>0         </td><td>1         </td><td>0         </td><td>0         </td><td>0         </td><td>2         </td><td>0.363478  </td><td>0.353739  </td><td>0.696087  </td><td>0.2485390 </td><td>131       </td><td> 670      </td><td> 801      </td></tr>\n",
       "\t<tr><td>3         </td><td>2011-01-03</td><td>1         </td><td>0         </td><td>1         </td><td>0         </td><td>1         </td><td>1         </td><td>1         </td><td>0.196364  </td><td>0.189405  </td><td>0.437273  </td><td>0.2483090 </td><td>120       </td><td>1229      </td><td>1349      </td></tr>\n",
       "\t<tr><td>4         </td><td>2011-01-04</td><td>1         </td><td>0         </td><td>1         </td><td>0         </td><td>2         </td><td>1         </td><td>1         </td><td>0.200000  </td><td>0.212122  </td><td>0.590435  </td><td>0.1602960 </td><td>108       </td><td>1454      </td><td>1562      </td></tr>\n",
       "\t<tr><td>5         </td><td>2011-01-05</td><td>1         </td><td>0         </td><td>1         </td><td>0         </td><td>3         </td><td>1         </td><td>1         </td><td>0.226957  </td><td>0.229270  </td><td>0.436957  </td><td>0.1869000 </td><td> 82       </td><td>1518      </td><td>1600      </td></tr>\n",
       "\t<tr><td>6         </td><td>2011-01-06</td><td>1         </td><td>0         </td><td>1         </td><td>0         </td><td>4         </td><td>1         </td><td>1         </td><td>0.204348  </td><td>0.233209  </td><td>0.518261  </td><td>0.0895652 </td><td> 88       </td><td>1518      </td><td>1606      </td></tr>\n",
       "</tbody>\n",
       "</table>\n"
      ],
      "text/latex": [
       "\\begin{tabular}{r|llllllllllllllll}\n",
       " instant & dteday & season & yr & mnth & holiday & weekday & workingday & weathersit & temp & atemp & hum & windspeed & casual & registered & cnt\\\\\n",
       "\\hline\n",
       "\t 1          & 2011-01-01 & 1          & 0          & 1          & 0          & 6          & 0          & 2          & 0.344167   & 0.363625   & 0.805833   & 0.1604460  & 331        &  654       &  985      \\\\\n",
       "\t 2          & 2011-01-02 & 1          & 0          & 1          & 0          & 0          & 0          & 2          & 0.363478   & 0.353739   & 0.696087   & 0.2485390  & 131        &  670       &  801      \\\\\n",
       "\t 3          & 2011-01-03 & 1          & 0          & 1          & 0          & 1          & 1          & 1          & 0.196364   & 0.189405   & 0.437273   & 0.2483090  & 120        & 1229       & 1349      \\\\\n",
       "\t 4          & 2011-01-04 & 1          & 0          & 1          & 0          & 2          & 1          & 1          & 0.200000   & 0.212122   & 0.590435   & 0.1602960  & 108        & 1454       & 1562      \\\\\n",
       "\t 5          & 2011-01-05 & 1          & 0          & 1          & 0          & 3          & 1          & 1          & 0.226957   & 0.229270   & 0.436957   & 0.1869000  &  82        & 1518       & 1600      \\\\\n",
       "\t 6          & 2011-01-06 & 1          & 0          & 1          & 0          & 4          & 1          & 1          & 0.204348   & 0.233209   & 0.518261   & 0.0895652  &  88        & 1518       & 1606      \\\\\n",
       "\\end{tabular}\n"
      ],
      "text/markdown": [
       "\n",
       "instant | dteday | season | yr | mnth | holiday | weekday | workingday | weathersit | temp | atemp | hum | windspeed | casual | registered | cnt | \n",
       "|---|---|---|---|---|---|\n",
       "| 1          | 2011-01-01 | 1          | 0          | 1          | 0          | 6          | 0          | 2          | 0.344167   | 0.363625   | 0.805833   | 0.1604460  | 331        |  654       |  985       | \n",
       "| 2          | 2011-01-02 | 1          | 0          | 1          | 0          | 0          | 0          | 2          | 0.363478   | 0.353739   | 0.696087   | 0.2485390  | 131        |  670       |  801       | \n",
       "| 3          | 2011-01-03 | 1          | 0          | 1          | 0          | 1          | 1          | 1          | 0.196364   | 0.189405   | 0.437273   | 0.2483090  | 120        | 1229       | 1349       | \n",
       "| 4          | 2011-01-04 | 1          | 0          | 1          | 0          | 2          | 1          | 1          | 0.200000   | 0.212122   | 0.590435   | 0.1602960  | 108        | 1454       | 1562       | \n",
       "| 5          | 2011-01-05 | 1          | 0          | 1          | 0          | 3          | 1          | 1          | 0.226957   | 0.229270   | 0.436957   | 0.1869000  |  82        | 1518       | 1600       | \n",
       "| 6          | 2011-01-06 | 1          | 0          | 1          | 0          | 4          | 1          | 1          | 0.204348   | 0.233209   | 0.518261   | 0.0895652  |  88        | 1518       | 1606       | \n",
       "\n",
       "\n"
      ],
      "text/plain": [
       "  instant dteday     season yr mnth holiday weekday workingday weathersit\n",
       "1 1       2011-01-01 1      0  1    0       6       0          2         \n",
       "2 2       2011-01-02 1      0  1    0       0       0          2         \n",
       "3 3       2011-01-03 1      0  1    0       1       1          1         \n",
       "4 4       2011-01-04 1      0  1    0       2       1          1         \n",
       "5 5       2011-01-05 1      0  1    0       3       1          1         \n",
       "6 6       2011-01-06 1      0  1    0       4       1          1         \n",
       "  temp     atemp    hum      windspeed casual registered cnt \n",
       "1 0.344167 0.363625 0.805833 0.1604460 331     654        985\n",
       "2 0.363478 0.353739 0.696087 0.2485390 131     670        801\n",
       "3 0.196364 0.189405 0.437273 0.2483090 120    1229       1349\n",
       "4 0.200000 0.212122 0.590435 0.1602960 108    1454       1562\n",
       "5 0.226957 0.229270 0.436957 0.1869000  82    1518       1600\n",
       "6 0.204348 0.233209 0.518261 0.0895652  88    1518       1606"
      ]
     },
     "metadata": {},
     "output_type": "display_data"
    },
    {
     "data": {
      "text/html": [
       "<table>\n",
       "<thead><tr><th></th><th scope=col>instant</th><th scope=col>dteday</th><th scope=col>season</th><th scope=col>yr</th><th scope=col>mnth</th><th scope=col>holiday</th><th scope=col>weekday</th><th scope=col>workingday</th><th scope=col>weathersit</th><th scope=col>temp</th><th scope=col>atemp</th><th scope=col>hum</th><th scope=col>windspeed</th><th scope=col>casual</th><th scope=col>registered</th><th scope=col>cnt</th></tr></thead>\n",
       "<tbody>\n",
       "\t<tr><th scope=row>726</th><td>726       </td><td>2012-12-26</td><td>1         </td><td>1         </td><td>12        </td><td>0         </td><td>3         </td><td>1         </td><td>3         </td><td>0.243333  </td><td>0.220333  </td><td>0.823333  </td><td>0.316546  </td><td>  9       </td><td> 432      </td><td> 441      </td></tr>\n",
       "\t<tr><th scope=row>727</th><td>727       </td><td>2012-12-27</td><td>1         </td><td>1         </td><td>12        </td><td>0         </td><td>4         </td><td>1         </td><td>2         </td><td>0.254167  </td><td>0.226642  </td><td>0.652917  </td><td>0.350133  </td><td>247       </td><td>1867      </td><td>2114      </td></tr>\n",
       "\t<tr><th scope=row>728</th><td>728       </td><td>2012-12-28</td><td>1         </td><td>1         </td><td>12        </td><td>0         </td><td>5         </td><td>1         </td><td>2         </td><td>0.253333  </td><td>0.255046  </td><td>0.590000  </td><td>0.155471  </td><td>644       </td><td>2451      </td><td>3095      </td></tr>\n",
       "\t<tr><th scope=row>729</th><td>729       </td><td>2012-12-29</td><td>1         </td><td>1         </td><td>12        </td><td>0         </td><td>6         </td><td>0         </td><td>2         </td><td>0.253333  </td><td>0.242400  </td><td>0.752917  </td><td>0.124383  </td><td>159       </td><td>1182      </td><td>1341      </td></tr>\n",
       "\t<tr><th scope=row>730</th><td>730       </td><td>2012-12-30</td><td>1         </td><td>1         </td><td>12        </td><td>0         </td><td>0         </td><td>0         </td><td>1         </td><td>0.255833  </td><td>0.231700  </td><td>0.483333  </td><td>0.350754  </td><td>364       </td><td>1432      </td><td>1796      </td></tr>\n",
       "\t<tr><th scope=row>731</th><td>731       </td><td>2012-12-31</td><td>1         </td><td>1         </td><td>12        </td><td>0         </td><td>1         </td><td>1         </td><td>2         </td><td>0.215833  </td><td>0.223487  </td><td>0.577500  </td><td>0.154846  </td><td>439       </td><td>2290      </td><td>2729      </td></tr>\n",
       "</tbody>\n",
       "</table>\n"
      ],
      "text/latex": [
       "\\begin{tabular}{r|llllllllllllllll}\n",
       "  & instant & dteday & season & yr & mnth & holiday & weekday & workingday & weathersit & temp & atemp & hum & windspeed & casual & registered & cnt\\\\\n",
       "\\hline\n",
       "\t726 & 726        & 2012-12-26 & 1          & 1          & 12         & 0          & 3          & 1          & 3          & 0.243333   & 0.220333   & 0.823333   & 0.316546   &   9        &  432       &  441      \\\\\n",
       "\t727 & 727        & 2012-12-27 & 1          & 1          & 12         & 0          & 4          & 1          & 2          & 0.254167   & 0.226642   & 0.652917   & 0.350133   & 247        & 1867       & 2114      \\\\\n",
       "\t728 & 728        & 2012-12-28 & 1          & 1          & 12         & 0          & 5          & 1          & 2          & 0.253333   & 0.255046   & 0.590000   & 0.155471   & 644        & 2451       & 3095      \\\\\n",
       "\t729 & 729        & 2012-12-29 & 1          & 1          & 12         & 0          & 6          & 0          & 2          & 0.253333   & 0.242400   & 0.752917   & 0.124383   & 159        & 1182       & 1341      \\\\\n",
       "\t730 & 730        & 2012-12-30 & 1          & 1          & 12         & 0          & 0          & 0          & 1          & 0.255833   & 0.231700   & 0.483333   & 0.350754   & 364        & 1432       & 1796      \\\\\n",
       "\t731 & 731        & 2012-12-31 & 1          & 1          & 12         & 0          & 1          & 1          & 2          & 0.215833   & 0.223487   & 0.577500   & 0.154846   & 439        & 2290       & 2729      \\\\\n",
       "\\end{tabular}\n"
      ],
      "text/markdown": [
       "\n",
       "| <!--/--> | instant | dteday | season | yr | mnth | holiday | weekday | workingday | weathersit | temp | atemp | hum | windspeed | casual | registered | cnt | \n",
       "|---|---|---|---|---|---|\n",
       "| 726 | 726        | 2012-12-26 | 1          | 1          | 12         | 0          | 3          | 1          | 3          | 0.243333   | 0.220333   | 0.823333   | 0.316546   |   9        |  432       |  441       | \n",
       "| 727 | 727        | 2012-12-27 | 1          | 1          | 12         | 0          | 4          | 1          | 2          | 0.254167   | 0.226642   | 0.652917   | 0.350133   | 247        | 1867       | 2114       | \n",
       "| 728 | 728        | 2012-12-28 | 1          | 1          | 12         | 0          | 5          | 1          | 2          | 0.253333   | 0.255046   | 0.590000   | 0.155471   | 644        | 2451       | 3095       | \n",
       "| 729 | 729        | 2012-12-29 | 1          | 1          | 12         | 0          | 6          | 0          | 2          | 0.253333   | 0.242400   | 0.752917   | 0.124383   | 159        | 1182       | 1341       | \n",
       "| 730 | 730        | 2012-12-30 | 1          | 1          | 12         | 0          | 0          | 0          | 1          | 0.255833   | 0.231700   | 0.483333   | 0.350754   | 364        | 1432       | 1796       | \n",
       "| 731 | 731        | 2012-12-31 | 1          | 1          | 12         | 0          | 1          | 1          | 2          | 0.215833   | 0.223487   | 0.577500   | 0.154846   | 439        | 2290       | 2729       | \n",
       "\n",
       "\n"
      ],
      "text/plain": [
       "    instant dteday     season yr mnth holiday weekday workingday weathersit\n",
       "726 726     2012-12-26 1      1  12   0       3       1          3         \n",
       "727 727     2012-12-27 1      1  12   0       4       1          2         \n",
       "728 728     2012-12-28 1      1  12   0       5       1          2         \n",
       "729 729     2012-12-29 1      1  12   0       6       0          2         \n",
       "730 730     2012-12-30 1      1  12   0       0       0          1         \n",
       "731 731     2012-12-31 1      1  12   0       1       1          2         \n",
       "    temp     atemp    hum      windspeed casual registered cnt \n",
       "726 0.243333 0.220333 0.823333 0.316546    9     432        441\n",
       "727 0.254167 0.226642 0.652917 0.350133  247    1867       2114\n",
       "728 0.253333 0.255046 0.590000 0.155471  644    2451       3095\n",
       "729 0.253333 0.242400 0.752917 0.124383  159    1182       1341\n",
       "730 0.255833 0.231700 0.483333 0.350754  364    1432       1796\n",
       "731 0.215833 0.223487 0.577500 0.154846  439    2290       2729"
      ]
     },
     "metadata": {},
     "output_type": "display_data"
    }
   ],
   "source": [
    "head(daily_data)\n",
    "tail(daily_data)"
   ]
  },
  {
   "cell_type": "code",
   "execution_count": null,
   "metadata": {
    "collapsed": true
   },
   "outputs": [],
   "source": []
  }
 ],
 "metadata": {
  "anaconda-cloud": {},
  "kernelspec": {
   "display_name": "R",
   "language": "R",
   "name": "ir"
  },
  "language_info": {
   "codemirror_mode": "r",
   "file_extension": ".r",
   "mimetype": "text/x-r-source",
   "name": "R",
   "pygments_lexer": "r",
   "version": "3.3.3"
  }
 },
 "nbformat": 4,
 "nbformat_minor": 2
}
