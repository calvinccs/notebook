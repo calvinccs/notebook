{
 "cells": [
  {
   "cell_type": "code",
   "execution_count": null,
   "metadata": {
    "collapsed": true
   },
   "outputs": [],
   "source": [
    "from utils.calvin_styles import *\n",
    "from influxdb import DataFrameClient\n",
    "from utils.libs import *\n",
    "from utils.user import *\n",
    "from itertools import combinations"
   ]
  },
  {
   "cell_type": "code",
   "execution_count": null,
   "metadata": {
    "collapsed": true
   },
   "outputs": [],
   "source": [
    "import plotly.graph_objs as go\n",
    "\n",
    "host = 'influxdb.gsg.capital'\n",
    "port = 8086\n",
    "db_fxtrading_md = DataFrameClient(host, port, influx_id['user'], influx_id['pw'], ssl = True, database='fxtrading_md')\n",
    "db_fxtrading_md.query('show measurements')"
   ]
  },
  {
   "cell_type": "code",
   "execution_count": null,
   "metadata": {
    "collapsed": true
   },
   "outputs": [],
   "source": [
    "crosslist = ['AUDCAD', 'USDSGD', 'AUDCNH', 'AUDSGD', 'CHFJPY', 'EURHUF', 'MXNJPY', 'CHFDKK', 'EURGBP', 'EURDKK', 'AUDNZD', 'CHFCNH', 'EURCZK', 'EURCNH', 'GBPUSD', 'GBPSEK', 'CADJPY', 'EURCHF', 'GBPNZD', 'GBPNOK', 'EURCAD', 'GBPMXN', 'GBPJPY', 'AUDCHF', 'AUDJPY', 'EURAUD', 'GBPDKK', 'DKKSEK', 'GBPCNH', 'GBPCHF', 'CADCNH', 'DKKNOK', 'GBPCAD', 'USDSEK', 'GBPAUD', 'USDRUB', 'USDPLN', 'DKKJPY', 'EURUSD', 'USDNOK', 'USDMXN', 'EURSGD', 'USDJPY', 'CADCHF', 'CNHJPY', 'EURSEK', 'USDILS', 'USDHUF', 'EURRUB', 'USDDKK', 'EURPLN', 'USDCZK', 'USDCNH', 'EURNZD', 'USDCHF', 'USDCAD', 'AUDUSD', 'CHFSEK', 'EURNOK', 'SGDJPY', 'SGDCNH', 'EURMXN', 'SEKJPY', 'NZDUSD', 'CHFNOK', 'EURJPY', 'NZDJPY', 'NZDCHF', 'EURILS', 'NOKSEK', 'NOKJPY']\n",
    "\n",
    "# All the combinations\n",
    "\n",
    "comb = [comb for comb in combinations(crosslist, 2)]\n",
    "len(comb)"
   ]
  },
  {
   "cell_type": "code",
   "execution_count": null,
   "metadata": {
    "collapsed": true
   },
   "outputs": [],
   "source": [
    "class fx_data(object):\n",
    "    \"\"\"\n",
    "    Extract the fx data from database\n",
    "    \"\"\"\n",
    "    def __init__(self, crosslist, start, end):\n",
    "        self.start = str(pd.to_datetime(start)).replace(' ', 'T') + 'Z'\n",
    "        self.end = str(pd.to_datetime(end)).replace(' ', 'T') + 'Z'\n",
    "        df_fx = pd.DataFrame()\n",
    "        for i in crosslist:\n",
    "            qline = \"SELECT MidClose FROM md_rtbars WHERE time > '%s' AND time < '%s' AND Cross = '%s'\"%(self.start, self.end, i)\n",
    "            df_fx = pd.concat([df_fx, list(db_fxtrading_md.query(qline).values())[0].rename(columns={'MidClose': i})], axis = 1)\n",
    "        self.df_fx = df_fx"
   ]
  },
  {
   "cell_type": "code",
   "execution_count": null,
   "metadata": {
    "collapsed": true
   },
   "outputs": [],
   "source": [
    "test = fx_data(crosslist, '2017-4-5', '2017-4-6')"
   ]
  },
  {
   "cell_type": "code",
   "execution_count": null,
   "metadata": {
    "collapsed": true
   },
   "outputs": [],
   "source": [
    "df = test.df_fx\n",
    "pairs = '%s_%s'%(comb[0][0], comb[0][1])\n",
    "pd.DataFrame({pairs: pd.rolling_corr(df[comb[0][0]], df[comb[0][1]], 18)}).head()"
   ]
  },
  {
   "cell_type": "code",
   "execution_count": null,
   "metadata": {
    "collapsed": true
   },
   "outputs": [],
   "source": [
    "import ipyparallel\n",
    "clients = ipyparallel.Client()\n",
    "dview = clients[:]\n",
    "crosslist = test.df_fx.columns.tolist()\n",
    "comb = [comb for comb in combinations(crosslist, 2)]\n",
    "\n",
    "def chunks(l, n):\n",
    "    n = max(1, n)\n",
    "    return (l[i:i+n] for i in range(0, len(l), n))\n",
    "\n",
    "comb_p = list(chunks(comb, 311))\n",
    "\n",
    "class fx_corr_para(object):\n",
    "    \"\"\"\n",
    "    Calculate correlation from fx data\n",
    "    \"\"\"\n",
    "    def __init__(self, df_fx, comb, window = 18):\n",
    "        \n",
    "        df_corr = pd.DataFrame()\n",
    "        for i in comb:\n",
    "            pairs = '%s_%s'%(i[0], i[1])\n",
    "            df = pd.DataFrame({pairs: pd.rolling_corr(df_fx[comb[0][0]], df_fx[comb[0][1]], window)})\n",
    "            df_corr = pd.concat([df_corr, df], axis = 1)\n",
    "        self.df_corr = df_corr.reset_index()"
   ]
  },
  {
   "cell_type": "code",
   "execution_count": null,
   "metadata": {
    "collapsed": true
   },
   "outputs": [],
   "source": []
  },
  {
   "cell_type": "code",
   "execution_count": null,
   "metadata": {
    "collapsed": true
   },
   "outputs": [],
   "source": []
  },
  {
   "cell_type": "code",
   "execution_count": null,
   "metadata": {
    "collapsed": true
   },
   "outputs": [],
   "source": []
  },
  {
   "cell_type": "code",
   "execution_count": null,
   "metadata": {
    "collapsed": true
   },
   "outputs": [],
   "source": []
  }
 ],
 "metadata": {
  "kernelspec": {
   "display_name": "Python 3",
   "language": "python",
   "name": "python3"
  },
  "language_info": {
   "codemirror_mode": {
    "name": "ipython",
    "version": 3
   },
   "file_extension": ".py",
   "mimetype": "text/x-python",
   "name": "python",
   "nbconvert_exporter": "python",
   "pygments_lexer": "ipython3",
   "version": "3.6.0"
  }
 },
 "nbformat": 4,
 "nbformat_minor": 2
}
