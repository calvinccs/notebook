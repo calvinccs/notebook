{
 "cells": [
  {
   "cell_type": "code",
   "execution_count": 1,
   "metadata": {
    "collapsed": false,
    "deletable": true,
    "editable": true
   },
   "outputs": [
    {
     "name": "stdout",
     "output_type": "stream",
     "text": [
      "2008-11-10 17:53:59\n"
     ]
    }
   ],
   "source": [
    "from datetime import datetime\n",
    "import time\n",
    "\n",
    "#-------------------------------------------------\n",
    "# conversions to strings\n",
    "#-------------------------------------------------\n",
    "# datetime object to string\n",
    "dt_obj = datetime(2008, 11, 10, 17, 53, 59)\n",
    "date_str = dt_obj.strftime(\"%Y-%m-%d %H:%M:%S\")\n",
    "print (date_str)"
   ]
  },
  {
   "cell_type": "code",
   "execution_count": 2,
   "metadata": {
    "collapsed": false,
    "deletable": true,
    "editable": true
   },
   "outputs": [
    {
     "name": "stdout",
     "output_type": "stream",
     "text": [
      "2008-11-12 13:51:18\n"
     ]
    }
   ],
   "source": [
    "# time tuple to string\n",
    "time_tuple = (2008, 11, 12, 13, 51, 18, 2, 317, 0)\n",
    "date_str = time.strftime(\"%Y-%m-%d %H:%M:%S\", time_tuple)\n",
    "print (date_str)"
   ]
  },
  {
   "cell_type": "code",
   "execution_count": 3,
   "metadata": {
    "collapsed": false,
    "deletable": true,
    "editable": true
   },
   "outputs": [
    {
     "name": "stdout",
     "output_type": "stream",
     "text": [
      "datetime.datetime(2008, 11, 12, 13, 51, 18)\n"
     ]
    }
   ],
   "source": [
    "#-------------------------------------------------\n",
    "# conversions to datetime objects\n",
    "#-------------------------------------------------\n",
    "# time tuple to datetime object\n",
    "time_tuple = (2008, 11, 12, 13, 51, 18, 2, 317, 0)\n",
    "dt_obj = datetime(*time_tuple[0:6])\n",
    "print (repr(dt_obj))"
   ]
  },
  {
   "cell_type": "code",
   "execution_count": 4,
   "metadata": {
    "collapsed": false,
    "deletable": true,
    "editable": true
   },
   "outputs": [
    {
     "name": "stdout",
     "output_type": "stream",
     "text": [
      "datetime.datetime(2008, 11, 10, 17, 53, 59)\n"
     ]
    }
   ],
   "source": [
    "# date string to datetime object\n",
    "date_str = \"2008-11-10 17:53:59\"\n",
    "dt_obj = datetime.strptime(date_str, \"%Y-%m-%d %H:%M:%S\")\n",
    "print (repr(dt_obj))"
   ]
  },
  {
   "cell_type": "code",
   "execution_count": 5,
   "metadata": {
    "collapsed": false,
    "deletable": true,
    "editable": true
   },
   "outputs": [
    {
     "name": "stdout",
     "output_type": "stream",
     "text": [
      "datetime.datetime(2008, 11, 13, 5, 59, 27, 595983)\n"
     ]
    }
   ],
   "source": [
    "# timestamp to datetime object in local time\n",
    "timestamp = 1226527167.595983\n",
    "dt_obj = datetime.fromtimestamp(timestamp)\n",
    "print (repr(dt_obj))"
   ]
  },
  {
   "cell_type": "code",
   "execution_count": 6,
   "metadata": {
    "collapsed": false,
    "deletable": true,
    "editable": true
   },
   "outputs": [
    {
     "name": "stdout",
     "output_type": "stream",
     "text": [
      "datetime.datetime(2008, 11, 12, 21, 59, 27, 595983)\n"
     ]
    }
   ],
   "source": [
    "# timestamp to datetime object in UTC\n",
    "timestamp = 1226527167.595983\n",
    "dt_obj = datetime.utcfromtimestamp(timestamp)\n",
    "print (repr(dt_obj))"
   ]
  },
  {
   "cell_type": "code",
   "execution_count": 7,
   "metadata": {
    "collapsed": false,
    "deletable": true,
    "editable": true
   },
   "outputs": [
    {
     "name": "stdout",
     "output_type": "stream",
     "text": [
      "time.struct_time(tm_year=2008, tm_mon=11, tm_mday=10, tm_hour=17, tm_min=53, tm_sec=59, tm_wday=0, tm_yday=315, tm_isdst=-1)\n"
     ]
    }
   ],
   "source": [
    "#-------------------------------------------------\n",
    "# conversions to time tuples\n",
    "#-------------------------------------------------\n",
    "# datetime object to time tuple\n",
    "dt_obj = datetime(2008, 11, 10, 17, 53, 59)\n",
    "time_tuple = dt_obj.timetuple()\n",
    "print (repr(time_tuple))"
   ]
  },
  {
   "cell_type": "code",
   "execution_count": 8,
   "metadata": {
    "collapsed": false,
    "deletable": true,
    "editable": true
   },
   "outputs": [
    {
     "name": "stdout",
     "output_type": "stream",
     "text": [
      "time.struct_time(tm_year=2008, tm_mon=11, tm_mday=10, tm_hour=17, tm_min=53, tm_sec=59, tm_wday=0, tm_yday=315, tm_isdst=-1)\n"
     ]
    }
   ],
   "source": [
    "# string to time tuple\n",
    "date_str = \"2008-11-10 17:53:59\"\n",
    "time_tuple = time.strptime(date_str, \"%Y-%m-%d %H:%M:%S\")\n",
    "print (repr(time_tuple))"
   ]
  },
  {
   "cell_type": "code",
   "execution_count": 9,
   "metadata": {
    "collapsed": false,
    "deletable": true,
    "editable": true
   },
   "outputs": [
    {
     "name": "stdout",
     "output_type": "stream",
     "text": [
      "time.struct_time(tm_year=2008, tm_mon=11, tm_mday=12, tm_hour=21, tm_min=59, tm_sec=27, tm_wday=2, tm_yday=317, tm_isdst=0)\n"
     ]
    }
   ],
   "source": [
    "# timestamp to time tuple in UTC\n",
    "timestamp = 1226527167.595983\n",
    "time_tuple = time.gmtime(timestamp)\n",
    "print (repr(time_tuple))"
   ]
  },
  {
   "cell_type": "code",
   "execution_count": 10,
   "metadata": {
    "collapsed": false,
    "deletable": true,
    "editable": true
   },
   "outputs": [
    {
     "name": "stdout",
     "output_type": "stream",
     "text": [
      "time.struct_time(tm_year=2008, tm_mon=11, tm_mday=13, tm_hour=5, tm_min=59, tm_sec=27, tm_wday=3, tm_yday=318, tm_isdst=0)\n"
     ]
    }
   ],
   "source": [
    "# timestamp to time tuple in local time\n",
    "timestamp = 1226527167.595983\n",
    "time_tuple = time.localtime(timestamp)\n",
    "print (repr(time_tuple))"
   ]
  },
  {
   "cell_type": "code",
   "execution_count": 11,
   "metadata": {
    "collapsed": false,
    "deletable": true,
    "editable": true
   },
   "outputs": [
    {
     "name": "stdout",
     "output_type": "stream",
     "text": [
      "1226469567.0\n"
     ]
    }
   ],
   "source": [
    "#-------------------------------------------------\n",
    "# conversions to timestamps\n",
    "#-------------------------------------------------\n",
    "# time tuple in local time to timestamp\n",
    "time_tuple = (2008, 11, 12, 13, 59, 27, 2, 317, 0)\n",
    "timestamp = time.mktime(time_tuple)\n",
    "print (repr(timestamp))"
   ]
  },
  {
   "cell_type": "code",
   "execution_count": 13,
   "metadata": {
    "collapsed": false,
    "deletable": true,
    "editable": true
   },
   "outputs": [
    {
     "name": "stdout",
     "output_type": "stream",
     "text": [
      "1226498367\n"
     ]
    }
   ],
   "source": [
    "import calendar\n",
    "# time tuple in utc time to timestamp\n",
    "time_tuple_utc = (2008, 11, 12, 13, 59, 27, 2, 317, 0)\n",
    "timestamp_utc = calendar.timegm(time_tuple_utc)\n",
    "print (repr(timestamp_utc))"
   ]
  },
  {
   "cell_type": "code",
   "execution_count": null,
   "metadata": {
    "collapsed": true,
    "deletable": true,
    "editable": true
   },
   "outputs": [],
   "source": [
    "#-------------------------------------------------\n",
    "# results\n",
    "#-------------------------------------------------\n",
    "# 2008-11-10 17:53:59\n",
    "# 2008-11-12 13:51:18\n",
    "# datetime.datetime(2008, 11, 12, 13, 51, 18)\n",
    "# datetime.datetime(2008, 11, 10, 17, 53, 59)\n",
    "# datetime.datetime(2008, 11, 12, 13, 59, 27, 595983)\n",
    "# datetime.datetime(2008, 11, 12, 21, 59, 27, 595983)\n",
    "# (2008, 11, 10, 17, 53, 59, 0, 315, -1)\n",
    "# (2008, 11, 10, 17, 53, 59, 0, 315, -1)\n",
    "# (2008, 11, 12, 21, 59, 27, 2, 317, 0)\n",
    "# (2008, 11, 12, 13, 59, 27, 2, 317, 0)\n",
    "# 1226527167.0\n",
    "# 1226498367"
   ]
  },
  {
   "cell_type": "code",
   "execution_count": 18,
   "metadata": {
    "collapsed": false,
    "deletable": true,
    "editable": true
   },
   "outputs": [
    {
     "data": {
      "text/plain": [
       "86400000000000.0"
      ]
     },
     "execution_count": 18,
     "metadata": {},
     "output_type": "execute_result"
    }
   ],
   "source": [
    "from datetime import timedelta\n",
    "\n",
    "t = timedelta(days=1).total_seconds()*1000000000\n",
    "t"
   ]
  },
  {
   "cell_type": "code",
   "execution_count": 20,
   "metadata": {
    "collapsed": false,
    "deletable": true,
    "editable": true
   },
   "outputs": [
    {
     "data": {
      "text/plain": [
       "Timedelta('1 days 00:00:00')"
      ]
     },
     "execution_count": 20,
     "metadata": {},
     "output_type": "execute_result"
    }
   ],
   "source": [
    "import pandas as pd\n",
    "pd.to_timedelta(t)"
   ]
  },
  {
   "cell_type": "code",
   "execution_count": null,
   "metadata": {
    "collapsed": false,
    "deletable": true,
    "editable": true
   },
   "outputs": [],
   "source": []
  },
  {
   "cell_type": "code",
   "execution_count": null,
   "metadata": {
    "collapsed": true,
    "deletable": true,
    "editable": true
   },
   "outputs": [],
   "source": []
  }
 ],
 "metadata": {
  "anaconda-cloud": {},
  "kernelspec": {
   "display_name": "Python 3",
   "language": "python",
   "name": "python3"
  },
  "language_info": {
   "codemirror_mode": {
    "name": "ipython",
    "version": 3
   },
   "file_extension": ".py",
   "mimetype": "text/x-python",
   "name": "python",
   "nbconvert_exporter": "python",
   "pygments_lexer": "ipython3",
   "version": "3.5.2"
  }
 },
 "nbformat": 4,
 "nbformat_minor": 2
}
