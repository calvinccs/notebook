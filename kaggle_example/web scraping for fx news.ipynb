{
 "cells": [
  {
   "cell_type": "markdown",
   "metadata": {
    "deletable": true,
    "editable": true
   },
   "source": [
    "# Scapping news data\n",
    "\n",
    "http://www.reuters.com/news/archive/europeanCurrencyNews?view=page&page=1&pageSize=10\n",
    "\n",
    "http://www.marketpulse.com/category/forex-news-round-up/page/1/"
   ]
  },
  {
   "cell_type": "code",
   "execution_count": 1,
   "metadata": {
    "collapsed": false,
    "deletable": true,
    "editable": true
   },
   "outputs": [],
   "source": [
    "import requests\n",
    "import numpy as np\n",
    "import pandas as pd\n",
    "from bs4 import BeautifulSoup\n"
   ]
  },
  {
   "cell_type": "markdown",
   "metadata": {
    "deletable": true,
    "editable": true
   },
   "source": [
    "![](http://www.reuters.com/resources_v2/images/reuters_social_logo.png)\n",
    "\n",
    "http://www.reuters.com/news/archive/europeanCurrencyNews?view=page&page=1&pageSize=10"
   ]
  },
  {
   "cell_type": "code",
   "execution_count": 148,
   "metadata": {
    "collapsed": false,
    "deletable": true,
    "editable": true
   },
   "outputs": [
    {
     "data": {
      "text/html": [
       "<div>\n",
       "<table border=\"1\" class=\"dataframe\">\n",
       "  <thead>\n",
       "    <tr style=\"text-align: right;\">\n",
       "      <th></th>\n",
       "      <th>headline</th>\n",
       "      <th>remark</th>\n",
       "      <th>time</th>\n",
       "    </tr>\n",
       "  </thead>\n",
       "  <tbody>\n",
       "    <tr>\n",
       "      <th>0</th>\n",
       "      <td>GLOBAL MARKETS-Asia shares retreat from nearly...</td>\n",
       "      <td>* Sterling pressured as British PM May formall...</td>\n",
       "      <td>2017-03-30</td>\n",
       "    </tr>\n",
       "    <tr>\n",
       "      <th>1</th>\n",
       "      <td>FOREX-Dollar edges up to 9-day high, buoyed by...</td>\n",
       "      <td>* Prospects of ECB moving away from easy polic...</td>\n",
       "      <td>2017-03-29</td>\n",
       "    </tr>\n",
       "    <tr>\n",
       "      <th>2</th>\n",
       "      <td>FOREX-Dollar hovers near 1-week high, buoyed b...</td>\n",
       "      <td>* Prospects of ECB moving away from easy polic...</td>\n",
       "      <td>2017-03-29</td>\n",
       "    </tr>\n",
       "    <tr>\n",
       "      <th>3</th>\n",
       "      <td>GLOBAL MARKETS-Oil firms after data; Brexit, F...</td>\n",
       "      <td>Stocks rose slightly on Wall\\nStreet on Wednes...</td>\n",
       "      <td>2017-03-29</td>\n",
       "    </tr>\n",
       "    <tr>\n",
       "      <th>4</th>\n",
       "      <td>GLOBAL MARKETS-Oil up after data; Brexit, Fed ...</td>\n",
       "      <td>Stocks rose slightly on Wall\\nStreet on Wednes...</td>\n",
       "      <td>2017-03-29</td>\n",
       "    </tr>\n",
       "  </tbody>\n",
       "</table>\n",
       "</div>"
      ],
      "text/plain": [
       "                                            headline  \\\n",
       "0  GLOBAL MARKETS-Asia shares retreat from nearly...   \n",
       "1  FOREX-Dollar edges up to 9-day high, buoyed by...   \n",
       "2  FOREX-Dollar hovers near 1-week high, buoyed b...   \n",
       "3  GLOBAL MARKETS-Oil firms after data; Brexit, F...   \n",
       "4  GLOBAL MARKETS-Oil up after data; Brexit, Fed ...   \n",
       "\n",
       "                                              remark        time  \n",
       "0  * Sterling pressured as British PM May formall...  2017-03-30  \n",
       "1  * Prospects of ECB moving away from easy polic...  2017-03-29  \n",
       "2  * Prospects of ECB moving away from easy polic...  2017-03-29  \n",
       "3  Stocks rose slightly on Wall\\nStreet on Wednes...  2017-03-29  \n",
       "4  Stocks rose slightly on Wall\\nStreet on Wednes...  2017-03-29  "
      ]
     },
     "execution_count": 148,
     "metadata": {},
     "output_type": "execute_result"
    }
   ],
   "source": [
    "df_reuters = pd.DataFrame()\n",
    "for i in range(1,10):\n",
    "    url = 'http://www.reuters.com/news/archive/europeanCurrencyNews?view=page&page=%d&pageSize=10' %i\n",
    "    page = requests.get(url)\n",
    "    soup = BeautifulSoup(page.content, 'html.parser')\n",
    "\n",
    "    story = soup.find(id =\"content\").find_all('article')\n",
    "    headline = [story[i].find('h3').get_text().strip() for i in range(len(story))]\n",
    "    remark = [story[i].find('p').get_text().strip() for i in range(len(story))]\n",
    "    time = [pd.to_datetime(story[i].find('span').get_text().strip()).date() for i in range(len(story))]\n",
    "\n",
    "    df_part = pd.DataFrame({'time': time, 'headline': headline, 'remark': remark})\n",
    "    df_reuters = pd.concat([df_reuters, df_part])\n",
    "    \n",
    "df_reuters = df_reuters.reset_index(drop = True)\n",
    "df_reuters.head()"
   ]
  },
  {
   "cell_type": "markdown",
   "metadata": {
    "deletable": true,
    "editable": true
   },
   "source": [
    "![](https://www.oanda.com/wandacache/marketpulse-0313b3e2a316081d1cbef4fbf1fb2eaacc5e9b56.jpg)\n",
    "\n",
    "http://www.marketpulse.com/category/forex-news-round-up/page/1/"
   ]
  },
  {
   "cell_type": "code",
   "execution_count": 205,
   "metadata": {
    "collapsed": false,
    "deletable": true,
    "editable": true
   },
   "outputs": [
    {
     "data": {
      "text/html": [
       "<div>\n",
       "<table border=\"1\" class=\"dataframe\">\n",
       "  <thead>\n",
       "    <tr style=\"text-align: right;\">\n",
       "      <th></th>\n",
       "      <th>headline</th>\n",
       "      <th>line</th>\n",
       "      <th>time</th>\n",
       "      <th>writer</th>\n",
       "    </tr>\n",
       "  </thead>\n",
       "  <tbody>\n",
       "    <tr>\n",
       "      <th>0</th>\n",
       "      <td>GBP Lower in Volatile Trading After Brexit Tri...</td>\n",
       "      <td>Sterling slipped against the dollar after a ch...</td>\n",
       "      <td>2017-03-29</td>\n",
       "      <td>Alfonso</td>\n",
       "    </tr>\n",
       "    <tr>\n",
       "      <th>1</th>\n",
       "      <td>USD Higher As Fed and ECB Comments Boost Currency</td>\n",
       "      <td>The dollar rose to its highest in more than a ...</td>\n",
       "      <td>2017-03-29</td>\n",
       "      <td>Alfonso</td>\n",
       "    </tr>\n",
       "    <tr>\n",
       "      <th>2</th>\n",
       "      <td>Gold Higher After Brexit Triggered</td>\n",
       "      <td>Gold edged up on Wednesday, as uncertainty abo...</td>\n",
       "      <td>2017-03-29</td>\n",
       "      <td>Alfonso</td>\n",
       "    </tr>\n",
       "    <tr>\n",
       "      <th>3</th>\n",
       "      <td>US Drillers Hedged Against Falling Oil Prices</td>\n",
       "      <td>U.S. drillers are insulating themselves agains...</td>\n",
       "      <td>2017-03-29</td>\n",
       "      <td>Alfonso</td>\n",
       "    </tr>\n",
       "    <tr>\n",
       "      <th>4</th>\n",
       "      <td>Boston Fed Rosengren Wants 4 Rate Hikes in 2017</td>\n",
       "      <td>If Boston Federal Reserve President Eric Rosen...</td>\n",
       "      <td>2017-03-29</td>\n",
       "      <td>Alfonso</td>\n",
       "    </tr>\n",
       "  </tbody>\n",
       "</table>\n",
       "</div>"
      ],
      "text/plain": [
       "                                            headline  \\\n",
       "0  GBP Lower in Volatile Trading After Brexit Tri...   \n",
       "1  USD Higher As Fed and ECB Comments Boost Currency   \n",
       "2                 Gold Higher After Brexit Triggered   \n",
       "3      US Drillers Hedged Against Falling Oil Prices   \n",
       "4    Boston Fed Rosengren Wants 4 Rate Hikes in 2017   \n",
       "\n",
       "                                                line        time   writer  \n",
       "0  Sterling slipped against the dollar after a ch...  2017-03-29  Alfonso  \n",
       "1  The dollar rose to its highest in more than a ...  2017-03-29  Alfonso  \n",
       "2  Gold edged up on Wednesday, as uncertainty abo...  2017-03-29  Alfonso  \n",
       "3  U.S. drillers are insulating themselves agains...  2017-03-29  Alfonso  \n",
       "4  If Boston Federal Reserve President Eric Rosen...  2017-03-29  Alfonso  "
      ]
     },
     "execution_count": 205,
     "metadata": {},
     "output_type": "execute_result"
    }
   ],
   "source": [
    "df_mapulse = pd.DataFrame()\n",
    "for i in range(1,10):\n",
    "    url = 'http://www.marketpulse.com/category/forex-news-round-up/page/%d/' %i\n",
    "    page = requests.get(url)\n",
    "    soup = BeautifulSoup(page.content, 'html.parser')\n",
    "\n",
    "    story = soup.find(id=\"category\").find_all('article')\n",
    "    headline = [story[i].find_all('a')[0].get_text() for i in range(len(story))]\n",
    "    writer = [story[i].find_all('a')[1].get_text() for i in range(len(story))]\n",
    "    time = [pd.to_datetime(story[i].find('time').get_text()).date() for i in range(len(story))]\n",
    "    line = [story[i].find('p').get_text() for i in range(len(story))]\n",
    "    \n",
    "    df_part = pd.DataFrame({'time': time, 'headline': headline, 'line': line, 'writer': writer})\n",
    "    df_mapulse = pd.concat([df_mapulse, df_part])\n",
    "    \n",
    "df_mapulse = df_mapulse.reset_index(drop = True)\n",
    "df_mapulse.head()    "
   ]
  },
  {
   "cell_type": "code",
   "execution_count": null,
   "metadata": {
    "collapsed": true,
    "deletable": true,
    "editable": true
   },
   "outputs": [],
   "source": []
  }
 ],
 "metadata": {
  "anaconda-cloud": {},
  "kernelspec": {
   "display_name": "Python 3",
   "language": "python",
   "name": "python3"
  },
  "language_info": {
   "codemirror_mode": {
    "name": "ipython",
    "version": 3
   },
   "file_extension": ".py",
   "mimetype": "text/x-python",
   "name": "python",
   "nbconvert_exporter": "python",
   "pygments_lexer": "ipython3",
   "version": "3.5.2"
  }
 },
 "nbformat": 4,
 "nbformat_minor": 1
}
