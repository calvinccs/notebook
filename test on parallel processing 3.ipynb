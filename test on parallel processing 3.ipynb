{
 "cells": [
  {
   "cell_type": "markdown",
   "metadata": {},
   "source": [
    "# test on parallel processing 3"
   ]
  },
  {
   "cell_type": "markdown",
   "metadata": {},
   "source": [
    "## Parallel options pricing\n",
    "\n",
    "An option is a financial contract that gives the buyer of the contract the right to buy (a “call”) or sell (a “put”) a secondary asset (a stock for example) at a particular date in the future (the expiration date) for a pre-agreed upon price (the strike price). For this right, the buyer pays the seller a premium (the option price). There are a wide variety of flavors of options (American, European, Asian, etc.) that are useful for different purposes: hedging against risk, speculation, etc.\n",
    "\n",
    "Much of modern finance is driven by the need to price these contracts accurately based on what is known about the properties (such as volatility) of the underlying asset. One method of pricing options is to use a Monte Carlo simulation of the underlying asset price. In this example we use this approach to price both European and Asian (path dependent) options for various strike prices and volatilities."
   ]
  },
  {
   "cell_type": "code",
   "execution_count": 2,
   "metadata": {
    "collapsed": true
   },
   "outputs": [],
   "source": [
    "import matplotlib.pyplot as plt\n",
    "import sys\n",
    "import time\n",
    "import numpy as np\n",
    "%matplotlib inline"
   ]
  },
  {
   "cell_type": "code",
   "execution_count": 3,
   "metadata": {
    "collapsed": true
   },
   "outputs": [],
   "source": [
    "# Here are the basic parameters for our computation\n",
    "price = 100.0  # Initial price\n",
    "rate = 0.05  # Interest rate\n",
    "days = 260  # Days to expiration\n",
    "paths = 10000  # Number of MC paths\n",
    "n_strikes = 10 #6  # Number of strike values\n",
    "min_strike = 90.0  # Min strike price\n",
    "max_strike = 110.0  # Max strike price\n",
    "n_sigmas = 10 #5  # Number of volatility values\n",
    "min_sigma = 0.1  # Min volatility\n",
    "max_sigma = 0.4  # Max volatility"
   ]
  },
  {
   "cell_type": "code",
   "execution_count": 5,
   "metadata": {},
   "outputs": [
    {
     "name": "stdout",
     "output_type": "stream",
     "text": [
      "Strike prices:  [  90.           92.22222222   94.44444444   96.66666667   98.88888889\n",
      "  101.11111111  103.33333333  105.55555556  107.77777778  110.        ]\n",
      "Volatilities:  [ 0.1         0.13333333  0.16666667  0.2         0.23333333  0.26666667\n",
      "  0.3         0.33333333  0.36666667  0.4       ]\n"
     ]
    }
   ],
   "source": [
    "strike_vals = np.linspace(min_strike, max_strike, n_strikes)\n",
    "sigma_vals = np.linspace(min_sigma, max_sigma, n_sigmas)\n",
    "print(\"Strike prices: \", strike_vals)\n",
    "print(\"Volatilities: \", sigma_vals)"
   ]
  },
  {
   "cell_type": "markdown",
   "metadata": {},
   "source": [
    "## Monte-Carlo option pricing function\n",
    "The following function computes the price of a single option. It returns the call and put prices for both European and Asian style options."
   ]
  },
  {
   "cell_type": "code",
   "execution_count": 6,
   "metadata": {
    "collapsed": true
   },
   "outputs": [],
   "source": [
    "def price_option(S=100.0, K=100.0, sigma=0.25, r=0.05, days=260, paths=10000):\n",
    "    \"\"\"\n",
    "    Price European and Asian options using a Monte Carlo method.\n",
    "\n",
    "    Parameters\n",
    "    ----------\n",
    "    S : float\n",
    "        The initial price of the stock.\n",
    "    K : float\n",
    "        The strike price of the option.\n",
    "    sigma : float\n",
    "        The volatility of the stock.\n",
    "    r : float\n",
    "        The risk free interest rate.\n",
    "    days : int\n",
    "        The number of days until the option expires.\n",
    "    paths : int\n",
    "        The number of Monte Carlo paths used to price the option.\n",
    "\n",
    "    Returns\n",
    "    -------\n",
    "    A tuple of (E. call, E. put, A. call, A. put) option prices.\n",
    "    \"\"\"\n",
    "    import numpy as np\n",
    "    from math import exp,sqrt\n",
    "    \n",
    "    h = 1.0/days\n",
    "    const1 = exp((r-0.5*sigma**2)*h)\n",
    "    const2 = sigma*sqrt(h)\n",
    "    stock_price = S*np.ones(paths, dtype='float64')\n",
    "    stock_price_sum = np.zeros(paths, dtype='float64')\n",
    "    for j in range(days):\n",
    "        growth_factor = const1*np.exp(const2*np.random.standard_normal(paths))\n",
    "        stock_price = stock_price*growth_factor\n",
    "        stock_price_sum = stock_price_sum + stock_price\n",
    "    stock_price_avg = stock_price_sum/days\n",
    "    zeros = np.zeros(paths, dtype='float64')\n",
    "    r_factor = exp(-r*h*days)\n",
    "    euro_put = r_factor*np.mean(np.maximum(zeros, K-stock_price))\n",
    "    asian_put = r_factor*np.mean(np.maximum(zeros, K-stock_price_avg))\n",
    "    euro_call = r_factor*np.mean(np.maximum(zeros, stock_price-K))\n",
    "    asian_call = r_factor*np.mean(np.maximum(zeros, stock_price_avg-K))\n",
    "    return (euro_call, euro_put, asian_call, asian_put)"
   ]
  },
  {
   "cell_type": "code",
   "execution_count": 8,
   "metadata": {},
   "outputs": [
    {
     "name": "stdout",
     "output_type": "stream",
     "text": [
      "CPU times: user 140 ms, sys: 0 ns, total: 140 ms\n",
      "Wall time: 139 ms\n"
     ]
    },
    {
     "data": {
      "text/plain": [
       "(12.728934916066704, 7.341270522894157, 7.0403152876454413, 4.4087878780449898)"
      ]
     },
     "execution_count": 8,
     "metadata": {},
     "output_type": "execute_result"
    }
   ],
   "source": [
    "%time result = price_option(S=100.0, K=100.0, sigma=0.25, r=0.05, days=260, paths=10000)\n",
    "result"
   ]
  },
  {
   "cell_type": "markdown",
   "metadata": {},
   "source": [
    "## Parallel computation across strike prices and volatilities\n",
    "The Client is used to setup the calculation and works with all engines."
   ]
  },
  {
   "cell_type": "code",
   "execution_count": 11,
   "metadata": {},
   "outputs": [],
   "source": [
    "import ipyparallel as ipp\n",
    "rc = ipp.Client()"
   ]
  },
  {
   "cell_type": "markdown",
   "metadata": {},
   "source": [
    "A LoadBalancedView is an interface to the engines that provides dynamic load balancing at the expense of not knowing which engine will execute the code."
   ]
  },
  {
   "cell_type": "code",
   "execution_count": 12,
   "metadata": {
    "collapsed": true
   },
   "outputs": [],
   "source": [
    "view = rc.load_balanced_view()"
   ]
  },
  {
   "cell_type": "markdown",
   "metadata": {},
   "source": [
    "Submit tasks for each (strike, sigma) pair. Again, we use the %%timeit magic to time the entire computation."
   ]
  },
  {
   "cell_type": "code",
   "execution_count": 13,
   "metadata": {
    "collapsed": true
   },
   "outputs": [],
   "source": [
    "async_results = []"
   ]
  },
  {
   "cell_type": "code",
   "execution_count": 14,
   "metadata": {},
   "outputs": [
    {
     "name": "stdout",
     "output_type": "stream",
     "text": [
      " 100/100 tasks finished after    3 s\n",
      "done\n",
      "CPU times: user 312 ms, sys: 12 ms, total: 324 ms\n",
      "Wall time: 3.15 s\n"
     ]
    }
   ],
   "source": [
    "%%time\n",
    "\n",
    "for strike in strike_vals:\n",
    "    for sigma in sigma_vals:\n",
    "        # This line submits the tasks for parallel computation.\n",
    "        ar = view.apply_async(price_option, price, strike, sigma, rate, days, paths)\n",
    "        async_results.append(ar)\n",
    "\n",
    "rc.wait_interactive(async_results)  # Wait until all tasks are done."
   ]
  },
  {
   "cell_type": "code",
   "execution_count": 15,
   "metadata": {},
   "outputs": [
    {
     "data": {
      "text/plain": [
       "100"
      ]
     },
     "execution_count": 15,
     "metadata": {},
     "output_type": "execute_result"
    }
   ],
   "source": [
    "len(async_results)"
   ]
  },
  {
   "cell_type": "markdown",
   "metadata": {},
   "source": [
    "## Process and visualize results\n",
    "Retrieve the results using the get method:"
   ]
  },
  {
   "cell_type": "code",
   "execution_count": 16,
   "metadata": {
    "collapsed": true
   },
   "outputs": [],
   "source": [
    "results = [ar.get() for ar in async_results]"
   ]
  },
  {
   "cell_type": "markdown",
   "metadata": {},
   "source": [
    "Assemble the result into a structured NumPy array."
   ]
  },
  {
   "cell_type": "code",
   "execution_count": 17,
   "metadata": {
    "collapsed": true
   },
   "outputs": [],
   "source": [
    "prices = np.empty(n_strikes*n_sigmas,\n",
    "    dtype=[('ecall',float),('eput',float),('acall',float),('aput',float)]\n",
    ")\n",
    "\n",
    "for i, price in enumerate(results):\n",
    "    prices[i] = tuple(price)\n",
    "\n",
    "prices.shape = (n_strikes, n_sigmas)"
   ]
  },
  {
   "cell_type": "markdown",
   "metadata": {},
   "source": [
    "Plot the values of the European call in (volatility, strike) space."
   ]
  },
  {
   "cell_type": "code",
   "execution_count": 18,
   "metadata": {},
   "outputs": [
    {
     "data": {
      "text/plain": [
       "<matplotlib.text.Text at 0x7f41d17a4cf8>"
      ]
     },
     "execution_count": 18,
     "metadata": {},
     "output_type": "execute_result"
    },
    {
     "data": {
      "image/png": "[encoded data removed]",
      "text/plain": [
       "<matplotlib.figure.Figure at 0x7f41d177b710>"
      ]
     },
     "metadata": {},
     "output_type": "display_data"
    }
   ],
   "source": [
    "plt.figure()\n",
    "plt.contourf(sigma_vals, strike_vals, prices['ecall'])\n",
    "plt.axis('tight')\n",
    "plt.colorbar()\n",
    "plt.title('European Call')\n",
    "plt.xlabel(\"Volatility\")\n",
    "plt.ylabel(\"Strike Price\")"
   ]
  },
  {
   "cell_type": "code",
   "execution_count": null,
   "metadata": {
    "collapsed": true
   },
   "outputs": [],
   "source": []
  }
 ],
 "metadata": {
  "kernelspec": {
   "display_name": "Python 3",
   "language": "python",
   "name": "python3"
  },
  "language_info": {
   "codemirror_mode": {
    "name": "ipython",
    "version": 3
   },
   "file_extension": ".py",
   "mimetype": "text/x-python",
   "name": "python",
   "nbconvert_exporter": "python",
   "pygments_lexer": "ipython3",
   "version": "3.6.0"
  }
 },
 "nbformat": 4,
 "nbformat_minor": 2
}
