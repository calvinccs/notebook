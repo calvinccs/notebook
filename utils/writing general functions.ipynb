{
 "cells": [
  {
   "cell_type": "markdown",
   "metadata": {
    "deletable": true,
    "editable": true
   },
   "source": [
    "# Create libraries list and user define function for the protect"
   ]
  },
  {
   "cell_type": "code",
   "execution_count": 1,
   "metadata": {
    "collapsed": false,
    "deletable": true,
    "editable": true
   },
   "outputs": [
    {
     "data": {
      "text/html": [
       "<style>\n",
       ".container {\n",
       "    width:96% !important;\n",
       "    font-family: 'Cooper Hewit','Source Sans Pro', 'Open Sans', 'Helvetica', Sans;\n",
       "}\n",
       "</style>"
      ],
      "text/plain": [
       "<IPython.core.display.HTML object>"
      ]
     },
     "metadata": {},
     "output_type": "display_data"
    }
   ],
   "source": [
    "from calvin_styles import *"
   ]
  },
  {
   "cell_type": "code",
   "execution_count": 2,
   "metadata": {
    "collapsed": false,
    "deletable": true,
    "editable": true
   },
   "outputs": [
    {
     "name": "stdout",
     "output_type": "stream",
     "text": [
      "Overwriting libs.py\n"
     ]
    }
   ],
   "source": [
    "%%writefile libs.py\n",
    "\n",
    "import numpy as np\n",
    "import pandas as pd\n",
    "\n",
    "from plotly.offline import init_notebook_mode, iplot\n",
    "import cufflinks as cf\n",
    "\n",
    "init_notebook_mode()\n",
    "cf.go_offline()\n",
    "\n",
    "import warnings\n",
    "warnings.filterwarnings('ignore')"
   ]
  },
  {
   "cell_type": "code",
   "execution_count": 1,
   "metadata": {
    "collapsed": false,
    "deletable": true,
    "editable": true
   },
   "outputs": [
    {
     "name": "stdout",
     "output_type": "stream",
     "text": [
      "Overwriting time_library.py\n"
     ]
    }
   ],
   "source": [
    "%%writefile time_library.py\n",
    "import pandas as pd\n",
    "import numpy as np\n",
    "from bs4 import BeautifulSoup\n",
    "import requests\n",
    "\n",
    "class timelib(object):\n",
    "    @staticmethod\n",
    "    def nextday(date):\n",
    "        if type(date) == str:\n",
    "            nd = str((pd.to_datetime(date) + pd.Timedelta('1 days')).date())\n",
    "        elif type(date) == pd.tslib.Timestamp:\n",
    "            nd = date + pd.Timedelta('1 days')\n",
    "        else:\n",
    "            nd = np.NaN\n",
    "        return nd\n",
    "    \n",
    "    def ts_list(start, end, step, influxdb = False):\n",
    "        # input 2 time and return a list of intervals\n",
    "        t_start = pd.to_datetime(start)\n",
    "        t_end = pd.to_datetime(end)\n",
    "        t_delta = pd.to_timedelta(step)\n",
    "        num_steps = int((t_end - t_start) / t_delta)\n",
    "        t_list = [t_start]\n",
    "\n",
    "        for i in range(1,num_steps):\n",
    "            t_list.append(t_list[i-1] + t_delta)\n",
    "\n",
    "        if influxdb:\n",
    "            return ['%sT%sZ' %(str(i)[:10], str(i)[11:]) for i in t_list]\n",
    "        if influxdb == False:\n",
    "            return t_list\n",
    "        \n",
    "    def tsrange_list(start, end, step, t_range, influxdb = False):\n",
    "        # input 2 time and return a list of intervals range as list of lists\n",
    "        t_start = pd.to_datetime(start)\n",
    "        t_end = pd.to_datetime(end)\n",
    "        t_delta = pd.to_timedelta(step)\n",
    "        num_steps = int((t_end - t_start) / t_delta)\n",
    "        t_list = [(t_start - pd.to_timedelta(t_range), t_start)]\n",
    "\n",
    "        for i in range(1,num_steps):\n",
    "            t_step = (t_list[i-1][1] + t_delta - pd.to_timedelta(t_range), t_list[i-1][1] + t_delta)\n",
    "            t_list.append(t_step)\n",
    "    \n",
    "        if influxdb:\n",
    "            return [('%sT%sZ' %(str(i[0])[:10], str(i[0])[11:]), '%sT%sZ' %(str(i[1])[:10], str(i[1])[11:])) for i in t_list]    \n",
    "        else:         \n",
    "            return t_list\n",
    "\n",
    "    def last_halfpast():\n",
    "        # return the timestamp of last half past in string, e.g. 4:30\n",
    "        now = pd.to_datetime('now')\n",
    "        if now.minute > 30:\n",
    "            x = (now.minute - 30)*60 + now.second\n",
    "        else:\n",
    "            x = (now.minute + 30)*60 + now.second\n",
    "        return pd.to_datetime('now') - pd.to_timedelta('%ds' %x)\n",
    "        \n",
    "    def last_hour_same_min(minutes):\n",
    "        # return the timestamp of last half past in string, e.g. 4:30\n",
    "        now = pd.to_datetime('now')\n",
    "        if now.minute > minutes:\n",
    "            x = (now.minute - minutes)*60 + now.second\n",
    "        else:\n",
    "            x = (now.minute + minutes)*60 + now.second\n",
    "        return pd.to_datetime('now') - pd.to_timedelta('%ds' %x)\n",
    "        \n",
    "class calendar(object):\n",
    "    # create a calendar using pandas\n",
    "    def __init__(self, year):\n",
    "        self.year = year\n",
    "        days = (pd.to_datetime(str(self.year+1) + '-01-01') - pd.to_datetime(str(self.year) + '-01-01')).days\n",
    "        self.CAL = pd.DataFrame({'Date': [pd.to_datetime(str(self.year) + '-01-01').date()+pd.to_timedelta('%ddays'%i) for i in range(days)]})\n",
    "        self.CAL['Weekday'] = self.CAL.Date.apply(lambda x: x.weekday())\n",
    "        wd_list = self.CAL.Weekday.tolist()\n",
    "        self.CAL['Week_no'] = [(wd_list[:i].count(6)) for i in range(len(wd_list))]\n",
    "        self.weekday_name = ['Mon', 'Tue', 'Wed', 'Thu', 'Fri', 'Sat', 'Sun']\n",
    "    def show_weekday(self, wd):\n",
    "        #wd is the string of weekday, e.g. 'Mon'\n",
    "        wd_index = self.weekday_name.index(wd)\n",
    "        return self.CAL[self.CAL.Weekday == wd_index][['Date', 'Week_no']]\n",
    "    \n",
    "class dst(object):\n",
    "    # Scrap the day light saving data from https://www.timeanddate.com\n",
    "    @staticmethod\n",
    "    def dst_ny(year):\n",
    "        # given year and return start and end date of daylight saving in NY\n",
    "        df = pd.DataFrame({'start': [pd.to_datetime('%d-3-%d'%(year, i)) for i in range(8, 15)],\n",
    "                           'end': [pd.to_datetime('%d-11-%d'%(year, i)) for i in range(1, 8)]})\n",
    "        df['s_wd'] = df.start.dt.weekday\n",
    "        df['e_wd'] = df.end.dt.weekday\n",
    "        return [df[df.s_wd == 6].start.tolist()[0], df[df.e_wd == 6].end.tolist()[0]]\n",
    "\n",
    "    def isdst(date):\n",
    "        # given a date and determine it is within daylight saving or not\n",
    "        Date = pd.to_datetime(date)\n",
    "        ds_zone = dst.dst_ny(Date.year)\n",
    "        if (Date >= ds_zone[0]) and (Date < ds_zone[1]):\n",
    "            return True\n",
    "        else:\n",
    "            return False\n",
    "        \n",
    "    def cut_time(date):\n",
    "        # Since FX market cut time is NY time 5pm, due to daylight saving it will affect the UTC time\n",
    "        Date = pd.to_datetime(date)\n",
    "        ds_zone = dst.dst_ny(Date.year)\n",
    "        if (Date >= ds_zone[0]) and (Date < ds_zone[1]): # summer daylight saving\n",
    "            return 'T21:00:00Z'\n",
    "        else: # without daylight saving\n",
    "            return 'T22:00:00Z'    \n",
    "    \n",
    "    def dst_date(yr, locations = ['United States', 'Australia', 'United Kingdom', 'Japan', 'Canada', 'New Zealand', 'Switzerland', 'Germany']):\n",
    "        page = requests.get(\"https://www.timeanddate.com/time/dst/%d.html\" %yr)\n",
    "        soup = BeautifulSoup(page.content, 'html.parser')\n",
    "        tablebody = soup.find(\"tbody\")\n",
    "        countries = tablebody.find_all(\"tr\")\n",
    "        dst = []\n",
    "        for i in range(len(countries)):\n",
    "            try:\n",
    "                if countries[i].find(\"a\").get_text() in locations:\n",
    "                    if 'No DST' in countries[i].find_all(\"td\")[1].get_text():\n",
    "                        item = [countries[i].find(\"a\").get_text(), np.NaN, np.NaN]\n",
    "                    else:\n",
    "                        start = str(pd.to_datetime('%s %d'%(countries[i].find_all(\"td\")[1].get_text()[8:], yr)).date())\n",
    "                        end = str(pd.to_datetime('%s %d'%(countries[i].find_all(\"td\")[2].get_text()[8:], yr)).date())\n",
    "                        item = [countries[i].find(\"a\").get_text(), start, end]\n",
    "                    dst.append(item)\n",
    "            except:\n",
    "                pass\n",
    "        df = pd.DataFrame(dst, columns = ['Country', 'DST_start', 'DST_end'])\n",
    "        return df\n"
   ]
  },
  {
   "cell_type": "code",
   "execution_count": 7,
   "metadata": {
    "collapsed": false,
    "deletable": true,
    "editable": true
   },
   "outputs": [
    {
     "data": {
      "text/html": [
       "<div>\n",
       "<table border=\"1\" class=\"dataframe\">\n",
       "  <thead>\n",
       "    <tr style=\"text-align: right;\">\n",
       "      <th></th>\n",
       "      <th>Country</th>\n",
       "      <th>DST_start</th>\n",
       "      <th>DST_end</th>\n",
       "    </tr>\n",
       "  </thead>\n",
       "  <tbody>\n",
       "    <tr>\n",
       "      <th>0</th>\n",
       "      <td>Australia</td>\n",
       "      <td>2016-10-02</td>\n",
       "      <td>2016-04-03</td>\n",
       "    </tr>\n",
       "    <tr>\n",
       "      <th>1</th>\n",
       "      <td>Canada</td>\n",
       "      <td>2016-03-13</td>\n",
       "      <td>2016-11-06</td>\n",
       "    </tr>\n",
       "    <tr>\n",
       "      <th>2</th>\n",
       "      <td>Germany</td>\n",
       "      <td>2016-03-27</td>\n",
       "      <td>2016-10-30</td>\n",
       "    </tr>\n",
       "    <tr>\n",
       "      <th>3</th>\n",
       "      <td>Japan</td>\n",
       "      <td>NaN</td>\n",
       "      <td>NaN</td>\n",
       "    </tr>\n",
       "    <tr>\n",
       "      <th>4</th>\n",
       "      <td>New Zealand</td>\n",
       "      <td>2016-09-25</td>\n",
       "      <td>2016-04-03</td>\n",
       "    </tr>\n",
       "    <tr>\n",
       "      <th>5</th>\n",
       "      <td>Switzerland</td>\n",
       "      <td>2016-03-27</td>\n",
       "      <td>2016-10-30</td>\n",
       "    </tr>\n",
       "    <tr>\n",
       "      <th>6</th>\n",
       "      <td>United Kingdom</td>\n",
       "      <td>2016-03-27</td>\n",
       "      <td>2016-10-30</td>\n",
       "    </tr>\n",
       "    <tr>\n",
       "      <th>7</th>\n",
       "      <td>United States</td>\n",
       "      <td>2016-03-13</td>\n",
       "      <td>2016-11-06</td>\n",
       "    </tr>\n",
       "  </tbody>\n",
       "</table>\n",
       "</div>"
      ],
      "text/plain": [
       "          Country   DST_start     DST_end\n",
       "0       Australia  2016-10-02  2016-04-03\n",
       "1          Canada  2016-03-13  2016-11-06\n",
       "2         Germany  2016-03-27  2016-10-30\n",
       "3           Japan         NaN         NaN\n",
       "4     New Zealand  2016-09-25  2016-04-03\n",
       "5     Switzerland  2016-03-27  2016-10-30\n",
       "6  United Kingdom  2016-03-27  2016-10-30\n",
       "7   United States  2016-03-13  2016-11-06"
      ]
     },
     "execution_count": 7,
     "metadata": {},
     "output_type": "execute_result"
    }
   ],
   "source": [
    "from time_library import *\n",
    "dst.dst_date(2016)"
   ]
  },
  {
   "cell_type": "code",
   "execution_count": 23,
   "metadata": {
    "collapsed": false,
    "deletable": true,
    "editable": true
   },
   "outputs": [
    {
     "name": "stdout",
     "output_type": "stream",
     "text": [
      "[Timestamp('2017-03-12 00:00:00'), Timestamp('2017-11-05 00:00:00')]\n"
     ]
    },
    {
     "data": {
      "text/plain": [
       "'T22:00:00Z'"
      ]
     },
     "execution_count": 23,
     "metadata": {},
     "output_type": "execute_result"
    }
   ],
   "source": [
    "from time_library import timelib as tl\n",
    "print(tl.dls(2017))\n",
    "tl.cut_time('2017-3-11')"
   ]
  },
  {
   "cell_type": "markdown",
   "metadata": {
    "deletable": true,
    "editable": true
   },
   "source": [
    "## Class function"
   ]
  },
  {
   "cell_type": "code",
   "execution_count": 48,
   "metadata": {
    "collapsed": false,
    "deletable": true,
    "editable": true
   },
   "outputs": [
    {
     "data": {
      "text/plain": [
       "'2017-03-05'"
      ]
     },
     "execution_count": 48,
     "metadata": {},
     "output_type": "execute_result"
    }
   ],
   "source": [
    "str(pd.to_datetime('today').date() - pd.to_timedelta('%d days'% (pd.to_datetime('today').weekday()+8)))"
   ]
  },
  {
   "cell_type": "code",
   "execution_count": 42,
   "metadata": {
    "collapsed": false,
    "deletable": true,
    "editable": true
   },
   "outputs": [
    {
     "ename": "TypeError",
     "evalue": "Can't convert 'int' object to str implicitly",
     "output_type": "error",
     "traceback": [
      "\u001b[0;31m---------------------------------------------------------------------------\u001b[0m",
      "\u001b[0;31mTypeError\u001b[0m                                 Traceback (most recent call last)",
      "\u001b[0;32m<ipython-input-42-7613fc0670e8>\u001b[0m in \u001b[0;36m<module>\u001b[0;34m()\u001b[0m\n\u001b[1;32m      1\u001b[0m \u001b[1;32mimport\u001b[0m \u001b[0mpandas\u001b[0m \u001b[1;32mas\u001b[0m \u001b[0mpd\u001b[0m\u001b[1;33m\u001b[0m\u001b[0m\n\u001b[1;32m      2\u001b[0m \u001b[1;33m\u001b[0m\u001b[0m\n\u001b[0;32m----> 3\u001b[0;31m \u001b[0mpd\u001b[0m\u001b[1;33m.\u001b[0m\u001b[0mto_datetime\u001b[0m\u001b[1;33m(\u001b[0m\u001b[1;34m'today'\u001b[0m\u001b[1;33m)\u001b[0m\u001b[1;33m.\u001b[0m\u001b[0mdate\u001b[0m\u001b[1;33m(\u001b[0m\u001b[1;33m)\u001b[0m \u001b[1;33m-\u001b[0m \u001b[0mpd\u001b[0m\u001b[1;33m.\u001b[0m\u001b[0mto_timedelta\u001b[0m\u001b[1;33m(\u001b[0m\u001b[1;34m'%d days'\u001b[0m\u001b[1;33m%\u001b[0m \u001b[0mpd\u001b[0m\u001b[1;33m.\u001b[0m\u001b[0mto_datetime\u001b[0m\u001b[1;33m(\u001b[0m\u001b[1;34m'today'\u001b[0m\u001b[1;33m)\u001b[0m\u001b[1;33m.\u001b[0m\u001b[0mweekday\u001b[0m\u001b[1;33m(\u001b[0m\u001b[1;33m)\u001b[0m\u001b[1;33m+\u001b[0m\u001b[1;36m8\u001b[0m\u001b[1;33m)\u001b[0m\u001b[1;33m\u001b[0m\u001b[0m\n\u001b[0m",
      "\u001b[0;31mTypeError\u001b[0m: Can't convert 'int' object to str implicitly"
     ]
    }
   ],
   "source": [
    "import pandas as pd\n",
    "\n",
    "pd.to_datetime('today').date() - pd.to_timedelta('%d days'% pd.to_datetime('today').weekday()+8)"
   ]
  },
  {
   "cell_type": "code",
   "execution_count": null,
   "metadata": {
    "collapsed": true,
    "deletable": true,
    "editable": true
   },
   "outputs": [],
   "source": []
  }
 ],
 "metadata": {
  "anaconda-cloud": {},
  "kernelspec": {
   "display_name": "Python 3",
   "language": "python",
   "name": "python3"
  },
  "language_info": {
   "codemirror_mode": {
    "name": "ipython",
    "version": 3
   },
   "file_extension": ".py",
   "mimetype": "text/x-python",
   "name": "python",
   "nbconvert_exporter": "python",
   "pygments_lexer": "ipython3",
   "version": "3.5.2"
  }
 },
 "nbformat": 4,
 "nbformat_minor": 2
}
